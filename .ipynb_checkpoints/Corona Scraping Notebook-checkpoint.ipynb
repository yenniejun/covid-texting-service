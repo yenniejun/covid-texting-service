{
 "cells": [
  {
   "cell_type": "code",
   "execution_count": 240,
   "metadata": {},
   "outputs": [],
   "source": [
    "import re\n",
    "from selenium import webdriver\n",
    "from selenium.webdriver.common.keys import Keys\n",
    "import itertools\n",
    "import pandas as pd\n",
    "# import corona\n",
    "import numpy as np"
   ]
  },
  {
   "cell_type": "markdown",
   "metadata": {
    "heading_collapsed": true
   },
   "source": [
    "# Covid Texting/Email\n",
    "Inspired by this [blog post](https://towardsdatascience.com/how-to-track-coronavirus-with-python-a5320b778c8e)"
   ]
  },
  {
   "cell_type": "code",
   "execution_count": 3,
   "metadata": {
    "hidden": true
   },
   "outputs": [],
   "source": [
    "class Coronavirus():\n",
    "  def __init__(self, link):\n",
    "    self.driver = webdriver.Chrome()\n",
    "    self.driver.get(link)"
   ]
  },
  {
   "cell_type": "code",
   "execution_count": null,
   "metadata": {
    "hidden": true
   },
   "outputs": [],
   "source": [
    "# bot_world = Coronavirus('https://www.worldometers.info/coronavirus/')\n",
    "# bot_us = Coronavirus('https://www.worldometers.info/coronavirus/country/us/')\n",
    "# bot_la = Coronavirus('http://ldh.la.gov/Coronavirus/')"
   ]
  },
  {
   "cell_type": "markdown",
   "metadata": {
    "heading_collapsed": true,
    "hidden": true
   },
   "source": [
    "## Louisiana Parishes"
   ]
  },
  {
   "cell_type": "code",
   "execution_count": 42,
   "metadata": {
    "hidden": true
   },
   "outputs": [],
   "source": [
    "bot_la = Coronavirus('https://www.arcgis.com/apps/opsdashboard/index.html#/69b726e2b82e408f89c3a54f96e8f776')\n"
   ]
  },
  {
   "cell_type": "code",
   "execution_count": 48,
   "metadata": {
    "hidden": true
   },
   "outputs": [],
   "source": [
    "lines = bot_la.driver.find_elements_by_xpath('//*[@id=\"ember56\"]/div/nav/span/div/div/p[2]/strong')\n",
    "lines = [line.get_attribute(\"innerHTML\") for line in lines]\n"
   ]
  },
  {
   "cell_type": "code",
   "execution_count": 49,
   "metadata": {
    "hidden": true
   },
   "outputs": [],
   "source": [
    "# https://stackoverflow.com/questions/1624883/alternative-way-to-split-a-list-into-groups-of-n\n",
    "def grouper(n, iterable, fillvalue=None):\n",
    "    \"grouper(3, 'ABCDEFG', 'x') --> ABC DEF Gxx\"\n",
    "    args = [iter(iterable)] * n\n",
    "    return itertools.zip_longest(*args, fillvalue=fillvalue)"
   ]
  },
  {
   "cell_type": "code",
   "execution_count": 50,
   "metadata": {
    "hidden": true
   },
   "outputs": [],
   "source": [
    "grouped_list = list(grouper(3, lines))"
   ]
  },
  {
   "cell_type": "code",
   "execution_count": 51,
   "metadata": {
    "hidden": true
   },
   "outputs": [],
   "source": [
    "df = pd.DataFrame(grouped_list, columns =['Parish', 'Cases', 'Deaths']) "
   ]
  },
  {
   "cell_type": "code",
   "execution_count": 73,
   "metadata": {
    "hidden": true
   },
   "outputs": [
    {
     "data": {
      "text/html": [
       "<div>\n",
       "<style scoped>\n",
       "    .dataframe tbody tr th:only-of-type {\n",
       "        vertical-align: middle;\n",
       "    }\n",
       "\n",
       "    .dataframe tbody tr th {\n",
       "        vertical-align: top;\n",
       "    }\n",
       "\n",
       "    .dataframe thead th {\n",
       "        text-align: right;\n",
       "    }\n",
       "</style>\n",
       "<table border=\"1\" class=\"dataframe\">\n",
       "  <thead>\n",
       "    <tr style=\"text-align: right;\">\n",
       "      <th></th>\n",
       "      <th>Parish</th>\n",
       "      <th>Cases</th>\n",
       "      <th>Deaths</th>\n",
       "    </tr>\n",
       "  </thead>\n",
       "  <tbody>\n",
       "    <tr>\n",
       "      <th>0</th>\n",
       "      <td>Orleans</td>\n",
       "      <td>451</td>\n",
       "      <td>15</td>\n",
       "    </tr>\n",
       "    <tr>\n",
       "      <th>1</th>\n",
       "      <td>Jefferson</td>\n",
       "      <td>184</td>\n",
       "      <td>3</td>\n",
       "    </tr>\n",
       "    <tr>\n",
       "      <th>2</th>\n",
       "      <td>Catahoula</td>\n",
       "      <td>1</td>\n",
       "      <td>1</td>\n",
       "    </tr>\n",
       "    <tr>\n",
       "      <th>3</th>\n",
       "      <td>St. James</td>\n",
       "      <td>1</td>\n",
       "      <td>1</td>\n",
       "    </tr>\n",
       "    <tr>\n",
       "      <th>4</th>\n",
       "      <td>St. Tammany</td>\n",
       "      <td>25</td>\n",
       "      <td>0</td>\n",
       "    </tr>\n",
       "    <tr>\n",
       "      <th>...</th>\n",
       "      <td>...</td>\n",
       "      <td>...</td>\n",
       "      <td>...</td>\n",
       "    </tr>\n",
       "    <tr>\n",
       "      <th>60</th>\n",
       "      <td>Vermilion</td>\n",
       "      <td>0</td>\n",
       "      <td>0</td>\n",
       "    </tr>\n",
       "    <tr>\n",
       "      <th>61</th>\n",
       "      <td>Vernon</td>\n",
       "      <td>0</td>\n",
       "      <td>0</td>\n",
       "    </tr>\n",
       "    <tr>\n",
       "      <th>62</th>\n",
       "      <td>West Carroll</td>\n",
       "      <td>0</td>\n",
       "      <td>0</td>\n",
       "    </tr>\n",
       "    <tr>\n",
       "      <th>63</th>\n",
       "      <td>West Feliciana</td>\n",
       "      <td>0</td>\n",
       "      <td>0</td>\n",
       "    </tr>\n",
       "    <tr>\n",
       "      <th>64</th>\n",
       "      <td>Winn</td>\n",
       "      <td>0</td>\n",
       "      <td>0</td>\n",
       "    </tr>\n",
       "  </tbody>\n",
       "</table>\n",
       "<p>65 rows × 3 columns</p>\n",
       "</div>"
      ],
      "text/plain": [
       "                        Parish Cases Deaths\n",
       "0   Orleans                      451     15\n",
       "1   Jefferson                    184      3\n",
       "2   Catahoula                      1      1\n",
       "3   St. James                      1      1\n",
       "4   St. Tammany                   25      0\n",
       "..                         ...   ...    ...\n",
       "60  Vermilion                      0      0\n",
       "61  Vernon                         0      0\n",
       "62  West Carroll                   0      0\n",
       "63  West Feliciana                 0      0\n",
       "64  Winn                           0      0\n",
       "\n",
       "[65 rows x 3 columns]"
      ]
     },
     "execution_count": 73,
     "metadata": {},
     "output_type": "execute_result"
    }
   ],
   "source": [
    "df"
   ]
  },
  {
   "cell_type": "code",
   "execution_count": 59,
   "metadata": {
    "hidden": true
   },
   "outputs": [],
   "source": [
    "parish_lens = [len(p) for p in df.Parish.values]"
   ]
  },
  {
   "cell_type": "code",
   "execution_count": 65,
   "metadata": {
    "hidden": true
   },
   "outputs": [],
   "source": [
    "max_val = max(parish_lens)\n"
   ]
  },
  {
   "cell_type": "code",
   "execution_count": 72,
   "metadata": {
    "hidden": true
   },
   "outputs": [],
   "source": [
    "df['Parish'] = ['{:26}'.format(p) for p in df.Parish.values]\n"
   ]
  },
  {
   "cell_type": "code",
   "execution_count": 70,
   "metadata": {
    "hidden": true
   },
   "outputs": [
    {
     "data": {
      "text/plain": [
       "['Orleans                   ',\n",
       " 'Jefferson                 ',\n",
       " 'Catahoula                 ',\n",
       " 'St. James                 ',\n",
       " 'St. Tammany               ',\n",
       " 'East Baton Rouge          ',\n",
       " 'Ascension                 ',\n",
       " 'Caddo                     ',\n",
       " 'St. Bernard               ',\n",
       " 'Lafourche                 ',\n",
       " 'Terrebonne                ',\n",
       " 'Parish Under Investigation',\n",
       " 'St. John the Baptist      ',\n",
       " 'St. Charles               ',\n",
       " 'Lafayette                 ',\n",
       " 'Bossier                   ',\n",
       " 'Plaquemines               ',\n",
       " 'Calcasieu                 ',\n",
       " 'Ouachita                  ',\n",
       " 'Rapides                   ',\n",
       " 'St. Landry                ',\n",
       " 'Tangipahoa                ',\n",
       " 'West Baton Rouge          ',\n",
       " 'De Soto                   ',\n",
       " 'Evangeline                ',\n",
       " 'Iberia                    ',\n",
       " 'Iberville                 ',\n",
       " 'Livingston                ',\n",
       " 'Washington                ',\n",
       " 'Acadia                    ',\n",
       " 'Assumption                ',\n",
       " 'Avoyelles                 ',\n",
       " 'Beauregard                ',\n",
       " 'Bienville                 ',\n",
       " 'Claiborne                 ',\n",
       " 'St. Mary                  ',\n",
       " 'Webster                   ',\n",
       " 'Allen                     ',\n",
       " 'Caldwell                  ',\n",
       " 'Cameron                   ',\n",
       " 'Concordia                 ',\n",
       " 'East Carroll              ',\n",
       " 'East Feliciana            ',\n",
       " 'Franklin                  ',\n",
       " 'Grant                     ',\n",
       " 'Jackson                   ',\n",
       " 'Jefferson Davis           ',\n",
       " 'La Salle                  ',\n",
       " 'Lincoln                   ',\n",
       " 'Madison                   ',\n",
       " 'Morehouse                 ',\n",
       " 'Natchitoches              ',\n",
       " 'Pointe Coupee             ',\n",
       " 'Red River                 ',\n",
       " 'Richland                  ',\n",
       " 'Sabine                    ',\n",
       " 'St. Helena                ',\n",
       " 'St. Martin                ',\n",
       " 'Tensas                    ',\n",
       " 'Union                     ',\n",
       " 'Vermilion                 ',\n",
       " 'Vernon                    ',\n",
       " 'West Carroll              ',\n",
       " 'West Feliciana            ',\n",
       " 'Winn                      ']"
      ]
     },
     "execution_count": 70,
     "metadata": {},
     "output_type": "execute_result"
    }
   ],
   "source": [
    "['{:26}'.format(p) for p in df.Parish.values]\n"
   ]
  },
  {
   "cell_type": "markdown",
   "metadata": {
    "hidden": true
   },
   "source": []
  },
  {
   "cell_type": "markdown",
   "metadata": {
    "hidden": true
   },
   "source": [
    "## US States"
   ]
  },
  {
   "cell_type": "code",
   "execution_count": 215,
   "metadata": {
    "hidden": true
   },
   "outputs": [],
   "source": [
    "bot_us = corona.get_us_bot()\n"
   ]
  },
  {
   "cell_type": "code",
   "execution_count": 66,
   "metadata": {
    "hidden": true
   },
   "outputs": [],
   "source": [
    "df_us.to_csv('us_states_df.csv')"
   ]
  },
  {
   "cell_type": "code",
   "execution_count": 132,
   "metadata": {
    "hidden": true
   },
   "outputs": [],
   "source": [
    "us_data = pd.read_csv('us_states_df.csv')\n",
    "us_data.drop(columns=\"Unnamed: 0\", inplace=True)\n",
    "us_data.State.replace(\"<strong>Total:</strong>\", \"Total\", inplace=True)\n",
    "\n",
    "total = us_data[53:54]\n",
    "# us_data[0:51]#.sort_values(by='State')\n"
   ]
  },
  {
   "cell_type": "code",
   "execution_count": 127,
   "metadata": {
    "hidden": true
   },
   "outputs": [],
   "source": [
    "# this is for from the dataframe\n",
    "us_data.NewCases = us_data.NewCases.str.replace(\"+\",\"\")\n",
    "us_data.NewCases = us_data.NewCases.str.replace(\",\",\"\").fillna(0).astype(int)\n",
    "\n",
    "us_data.TotalCases = us_data.TotalCases.str.replace(\",\",\"\").fillna(0).astype(int)\n",
    "us_data.TotalDeaths = us_data.TotalDeaths.fillna(0).astype(int)\n",
    "us_data.NewDeaths = us_data.NewDeaths.fillna(0).astype(int)\n",
    "\n",
    "us_data[\"CasePercentInc\"] = us_data.NewCases.str.replace(\",\",\"\").fillna(0).astype(int) / (us_data.TotalCases.str.replace(\",\",\"\").fillna(0).astype(int) - us_data.NewCases.str.replace(\",\",\"\").fillna(0).astype(int))\n",
    "us_data[\"DeathPercentInc\"] = us_data.NewDeaths / (us_data.TotalDeaths - us_data.NewDeaths)\n"
   ]
  },
  {
   "cell_type": "code",
   "execution_count": 72,
   "metadata": {
    "hidden": true
   },
   "outputs": [
    {
     "data": {
      "text/html": [
       "<div>\n",
       "<style scoped>\n",
       "    .dataframe tbody tr th:only-of-type {\n",
       "        vertical-align: middle;\n",
       "    }\n",
       "\n",
       "    .dataframe tbody tr th {\n",
       "        vertical-align: top;\n",
       "    }\n",
       "\n",
       "    .dataframe thead th {\n",
       "        text-align: right;\n",
       "    }\n",
       "</style>\n",
       "<table border=\"1\" class=\"dataframe\">\n",
       "  <thead>\n",
       "    <tr style=\"text-align: right;\">\n",
       "      <th></th>\n",
       "      <th>State</th>\n",
       "      <th>TotalCases</th>\n",
       "      <th>NewCases</th>\n",
       "      <th>TotalDeaths</th>\n",
       "      <th>NewDeaths</th>\n",
       "    </tr>\n",
       "  </thead>\n",
       "  <tbody>\n",
       "    <tr>\n",
       "      <th>53</th>\n",
       "      <td>Total</td>\n",
       "      <td>52,447</td>\n",
       "      <td>8,713</td>\n",
       "      <td>674.0</td>\n",
       "      <td>121.0</td>\n",
       "    </tr>\n",
       "  </tbody>\n",
       "</table>\n",
       "</div>"
      ],
      "text/plain": [
       "    State TotalCases NewCases  TotalDeaths  NewDeaths\n",
       "53  Total     52,447    8,713        674.0      121.0"
      ]
     },
     "execution_count": 72,
     "metadata": {},
     "output_type": "execute_result"
    }
   ],
   "source": [
    "total"
   ]
  },
  {
   "cell_type": "code",
   "execution_count": 60,
   "metadata": {
    "hidden": true
   },
   "outputs": [],
   "source": [
    "# pd.set_option('display.max_rows', us_data.shape[0]+1)"
   ]
  },
  {
   "cell_type": "code",
   "execution_count": 220,
   "metadata": {
    "hidden": true
   },
   "outputs": [],
   "source": [
    "# this is for directly from the source\n",
    "df_us = corona.get_states_df(bot_us)\n",
    "\n",
    "us_data = df_us.copy()\n",
    "us_data.State.replace(\"<strong>Total:</strong>\", \"Total\", inplace=True)\n",
    "total = us_data[53:54]\n",
    "us_data = us_data[0:51]#.sort_values(by='State')\n",
    "\n",
    "us_data.NewCases = us_data.NewCases.str.replace(\"+\",\"\")\n",
    "us_data.NewCases.str.replace(\",\",\"\").fillna(0)\n",
    "us_data.replace(r'^\\s*$', np.nan, regex=True, inplace=True)\n",
    "us_data[\"CasePercentInc\"] = us_data.NewCases.str.replace(\",\",\"\").fillna(0).astype(int) / (us_data.TotalCases.str.replace(\",\",\"\").fillna(0).astype(int) - us_data.NewCases.str.replace(\",\",\"\").fillna(0).astype(int))\n",
    "us_data[\"DeathPercentInc\"] = us_data.NewDeaths.fillna(0).astype(int) / (us_data.TotalDeaths.fillna(0).astype(int) - us_data.NewDeaths.fillna(0).astype(int))\n",
    "                                                                              \n",
    "   "
   ]
  },
  {
   "cell_type": "code",
   "execution_count": 182,
   "metadata": {
    "hidden": true
   },
   "outputs": [
    {
     "data": {
      "text/plain": [
       "'22.9'"
      ]
     },
     "execution_count": 182,
     "metadata": {},
     "output_type": "execute_result"
    }
   ],
   "source": [
    "\n",
    "\"{:.1f}\".format(us_data.CasePercentInc.values[0] * 100)"
   ]
  },
  {
   "cell_type": "code",
   "execution_count": 224,
   "metadata": {
    "hidden": true
   },
   "outputs": [
    {
     "name": "stdout",
     "output_type": "stream",
     "text": [
      "      State TotalCases NewCases TotalDeaths NewDeaths stripped_state\n",
      "45  Montana         46       +1                              montana\n"
     ]
    }
   ],
   "source": [
    "m = corona.get_us_state(bot_us, 'montana')"
   ]
  },
  {
   "cell_type": "code",
   "execution_count": 211,
   "metadata": {
    "hidden": true
   },
   "outputs": [
    {
     "data": {
      "text/plain": [
       "dtype('O')"
      ]
     },
     "execution_count": 211,
     "metadata": {},
     "output_type": "execute_result"
    }
   ],
   "source": [
    "m.State.dtypes"
   ]
  },
  {
   "cell_type": "code",
   "execution_count": 212,
   "metadata": {
    "hidden": true
   },
   "outputs": [
    {
     "data": {
      "text/plain": [
       "45    \n",
       "Name: NewDeaths, dtype: object"
      ]
     },
     "execution_count": 212,
     "metadata": {},
     "output_type": "execute_result"
    }
   ],
   "source": [
    "m.NewDeaths.fillna(0)"
   ]
  },
  {
   "cell_type": "code",
   "execution_count": 225,
   "metadata": {
    "hidden": true
   },
   "outputs": [
    {
     "data": {
      "text/html": [
       "<div>\n",
       "<style scoped>\n",
       "    .dataframe tbody tr th:only-of-type {\n",
       "        vertical-align: middle;\n",
       "    }\n",
       "\n",
       "    .dataframe tbody tr th {\n",
       "        vertical-align: top;\n",
       "    }\n",
       "\n",
       "    .dataframe thead th {\n",
       "        text-align: right;\n",
       "    }\n",
       "</style>\n",
       "<table border=\"1\" class=\"dataframe\">\n",
       "  <thead>\n",
       "    <tr style=\"text-align: right;\">\n",
       "      <th></th>\n",
       "      <th>State</th>\n",
       "      <th>TotalCases</th>\n",
       "      <th>NewCases</th>\n",
       "      <th>TotalDeaths</th>\n",
       "      <th>NewDeaths</th>\n",
       "      <th>stripped_state</th>\n",
       "    </tr>\n",
       "  </thead>\n",
       "  <tbody>\n",
       "    <tr>\n",
       "      <th>45</th>\n",
       "      <td>Montana</td>\n",
       "      <td>46</td>\n",
       "      <td>+1</td>\n",
       "      <td></td>\n",
       "      <td></td>\n",
       "      <td>montana</td>\n",
       "    </tr>\n",
       "  </tbody>\n",
       "</table>\n",
       "</div>"
      ],
      "text/plain": [
       "      State TotalCases NewCases TotalDeaths NewDeaths stripped_state\n",
       "45  Montana         46       +1                              montana"
      ]
     },
     "execution_count": 225,
     "metadata": {},
     "output_type": "execute_result"
    }
   ],
   "source": [
    "m"
   ]
  },
  {
   "cell_type": "code",
   "execution_count": 246,
   "metadata": {
    "hidden": true
   },
   "outputs": [],
   "source": [
    "def get_states_df(bot_us):\n",
    "\tstates = bot_us.driver.find_elements_by_xpath(\"//tbody/tr/td\")\n",
    "\tlines = [\" \".join(state.get_attribute(\"innerHTML\").split()) for state in states]\n",
    "\tgrouped_list = list(corona.grouper(7, lines))\n",
    "\tdf = pd.DataFrame(grouped_list).iloc[:,0:5]\n",
    "\tdf.columns =['State', 'TotalCases', 'NewCases', 'TotalDeaths', 'NewDeaths']\n",
    "\tdf.State.replace(\"<strong>Total:</strong>\", \"Total\", inplace=True)\n",
    "\treturn df[0:54]"
   ]
  },
  {
   "cell_type": "code",
   "execution_count": 260,
   "metadata": {
    "hidden": true
   },
   "outputs": [],
   "source": [
    "df = get_states_df(bot_us)\n"
   ]
  },
  {
   "cell_type": "code",
   "execution_count": 261,
   "metadata": {
    "hidden": true
   },
   "outputs": [],
   "source": [
    "df['stripped_state'] = [corona.clean_text(p) for p in df.State.values]\n",
    "df.replace(r'^\\s*$', np.nan, regex=True, inplace=True)\n",
    "df.NewCases = df.NewCases.str.replace(\"+\",\"\").fillna(0)\n",
    "df.NewDeaths = df.NewDeaths.str.replace(\"+\",\"\").fillna(0)\n"
   ]
  },
  {
   "cell_type": "code",
   "execution_count": 262,
   "metadata": {
    "hidden": true
   },
   "outputs": [
    {
     "data": {
      "text/plain": [
       "0     4790\n",
       "1      831\n",
       "2      361\n",
       "3        0\n",
       "4      463\n",
       "5      250\n",
       "6      185\n",
       "7      216\n",
       "8      382\n",
       "9      223\n",
       "10     207\n",
       "11      20\n",
       "12       0\n",
       "13      52\n",
       "14     203\n",
       "15     122\n",
       "16      49\n",
       "17      41\n",
       "18     106\n",
       "19      61\n",
       "20      43\n",
       "21      92\n",
       "22      71\n",
       "23      41\n",
       "24      36\n",
       "25      33\n",
       "26      27\n",
       "27      59\n",
       "28      21\n",
       "29      19\n",
       "30      18\n",
       "31      33\n",
       "32       0\n",
       "33      19\n",
       "34      18\n",
       "35      11\n",
       "36      25\n",
       "37       0\n",
       "38      16\n",
       "39      20\n",
       "40      23\n",
       "41       0\n",
       "42      34\n",
       "43       0\n",
       "44      11\n",
       "45       1\n",
       "46       4\n",
       "47       2\n",
       "48       2\n",
       "49       4\n",
       "50       4\n",
       "51       0\n",
       "52       0\n",
       "53    9249\n",
       "Name: NewCases, dtype: object"
      ]
     },
     "execution_count": 262,
     "metadata": {},
     "output_type": "execute_result"
    }
   ],
   "source": [
    "df.NewCases.str.replace(\",\",\"\").fillna(0)#.astype(int)"
   ]
  },
  {
   "cell_type": "code",
   "execution_count": 263,
   "metadata": {
    "hidden": true
   },
   "outputs": [],
   "source": [
    "state = \"montana\""
   ]
  },
  {
   "cell_type": "code",
   "execution_count": 264,
   "metadata": {
    "hidden": true
   },
   "outputs": [],
   "source": [
    "df['stripped_state'] = [corona.clean_text(p) for p in df.State.values]\n",
    "df.replace(r'^\\s*$', np.nan, regex=True, inplace=True)\n",
    "df.NewCases = df.NewCases.str.replace(\"+\",\"\").fillna(0)\n",
    "df.NewDeaths = df.NewDeaths.str.replace(\"+\",\"\").fillna(0)\n",
    "df.TotalDeaths = df.TotalDeaths.fillna(0)\n",
    "\n",
    "df[\"CasePercentInc\"] = df.NewCases.str.replace(\",\",\"\").fillna(0).astype(int) / (df.TotalCases.str.replace(\",\",\"\").fillna(0).astype(int) - df.NewCases.str.replace(\",\",\"\").fillna(0).astype(int))\n",
    "df[\"DeathPercentInc\"] = df.NewDeaths.fillna(0).astype(int) / (df.TotalDeaths.fillna(0).astype(int) - df.NewDeaths.fillna(0).astype(int))\n",
    "\n",
    "state = df[df.stripped_state == state]"
   ]
  },
  {
   "cell_type": "code",
   "execution_count": 265,
   "metadata": {
    "hidden": true
   },
   "outputs": [],
   "source": [
    "state_name = state.State.values[0]\n",
    "total_cases = state.TotalCases.values[0]\n",
    "new_cases = state.NewCases.values[0]  or 0\n",
    "case_percent = str(\"{:.1f}\".format(state.CasePercentInc.values[0] * 100)) + \"%\"\n",
    "total_deaths = state.TotalDeaths.values[0] or 0\n",
    "new_deaths = state.NewDeaths.values[0] or 0\n",
    "death_percent = str(\"{:.1f}\".format(state.DeathPercentInc.values[0] * 100)) + \"%\"\n",
    "\n"
   ]
  },
  {
   "cell_type": "code",
   "execution_count": 266,
   "metadata": {
    "hidden": true
   },
   "outputs": [
    {
     "data": {
      "text/html": [
       "<div>\n",
       "<style scoped>\n",
       "    .dataframe tbody tr th:only-of-type {\n",
       "        vertical-align: middle;\n",
       "    }\n",
       "\n",
       "    .dataframe tbody tr th {\n",
       "        vertical-align: top;\n",
       "    }\n",
       "\n",
       "    .dataframe thead th {\n",
       "        text-align: right;\n",
       "    }\n",
       "</style>\n",
       "<table border=\"1\" class=\"dataframe\">\n",
       "  <thead>\n",
       "    <tr style=\"text-align: right;\">\n",
       "      <th></th>\n",
       "      <th>State</th>\n",
       "      <th>TotalCases</th>\n",
       "      <th>NewCases</th>\n",
       "      <th>TotalDeaths</th>\n",
       "      <th>NewDeaths</th>\n",
       "      <th>stripped_state</th>\n",
       "      <th>CasePercentInc</th>\n",
       "      <th>DeathPercentInc</th>\n",
       "    </tr>\n",
       "  </thead>\n",
       "  <tbody>\n",
       "    <tr>\n",
       "      <th>45</th>\n",
       "      <td>Montana</td>\n",
       "      <td>46</td>\n",
       "      <td>1</td>\n",
       "      <td>0</td>\n",
       "      <td>0</td>\n",
       "      <td>montana</td>\n",
       "      <td>0.022222</td>\n",
       "      <td>NaN</td>\n",
       "    </tr>\n",
       "  </tbody>\n",
       "</table>\n",
       "</div>"
      ],
      "text/plain": [
       "      State TotalCases NewCases TotalDeaths NewDeaths stripped_state  \\\n",
       "45  Montana         46        1           0         0        montana   \n",
       "\n",
       "    CasePercentInc  DeathPercentInc  \n",
       "45        0.022222              NaN  "
      ]
     },
     "execution_count": 266,
     "metadata": {},
     "output_type": "execute_result"
    }
   ],
   "source": [
    "state"
   ]
  },
  {
   "cell_type": "markdown",
   "metadata": {
    "heading_collapsed": true
   },
   "source": [
    "# Q&A Scraping FAQ"
   ]
  },
  {
   "cell_type": "code",
   "execution_count": 229,
   "metadata": {
    "hidden": true
   },
   "outputs": [],
   "source": [
    "from bs4 import BeautifulSoup\n",
    "from requests import get\n",
    "import difflib"
   ]
  },
  {
   "cell_type": "code",
   "execution_count": 629,
   "metadata": {
    "hidden": true
   },
   "outputs": [],
   "source": [
    "def get_questions():\n",
    "    who_q, who_a = get_who_questions()\n",
    "    cdc_q, cdc_a = get_cdc_questions()\n",
    "    fda_q, fda_a = get_fda_questions()\n",
    "    jhm_q, jhm_a = get_jhm_questions()\n",
    "    cnn_q, cnn_a = get_cnn_questions()\n",
    "    questions = who_q + cdc_q + fda_q + jhm_q + cnn_q\n",
    "    answers = who_a + cdc_a + fda_a + jhm_a + cnn_a\n",
    "    print(len(answers), len(questions))\n",
    "    return (questions, answers)\n",
    "\n",
    "def get_cnn_questions():\n",
    "    # Scraping from CNN FAQ\n",
    "    url = 'https://www.cnn.com/interactive/2020/health/coronavirus-questions-answers/'\n",
    "    response = get(url)\n",
    "    html_soup = BeautifulSoup(response.text, 'html.parser')\n",
    "\n",
    "    questions = html_soup.find_all('div', class_='question-q')\n",
    "    questions = [q.text.strip().replace('\\x99','').replace('\\x80','').replace('â',\"'\") for q in questions]\n",
    "\n",
    "    answers = html_soup.find_all('div', class_='question-a')\n",
    "    answers = [a.text.strip().replace('\\x99','').replace('\\x80','').replace('\\x93','').replace('\\x94','').replace('â',\"'\").replace('\\x9c','').replace('\\x9d','') for a in answers]\n",
    "\n",
    "    return (questions, answers)\n",
    "\n",
    "\n",
    "def get_jhm_questions():\n",
    "    # Scraping from Johns Hopkins Medicine\n",
    "    url = 'https://www.hopkinsmedicine.org/health/conditions-and-diseases/coronavirus/coronavirus-frequently-asked-questions'\n",
    "    response = get(url)\n",
    "    html_soup = BeautifulSoup(response.text, 'html.parser')\n",
    "\n",
    "    questions = []\n",
    "    answers = []\n",
    "\n",
    "    for header in html_soup.find_all('h3'):\n",
    "        para = header.find_next_sibling('p')\n",
    "        questions.append(header.text.strip())\n",
    "        if para:\n",
    "            answers.append(para.text.strip().replace('\\n',' ').replace('\\xa0',''))\n",
    "            \n",
    "    questions = questions[:-3]\n",
    "\n",
    "    return (questions, answers)\n",
    "\n",
    "def get_fda_questions():\n",
    "    # Scraping from FDA\n",
    "    url = 'https://www.fda.gov/emergency-preparedness-and-response/coronavirus-disease-2019-covid-19/coronavirus-disease-2019-covid-19-frequently-asked-questions'\n",
    "    response = get(url)\n",
    "    html_soup = BeautifulSoup(response.text, 'html.parser')\n",
    "\n",
    "    questions = html_soup.find_all('div', class_ = 'panel-heading')\n",
    "    questions = [q.text.strip().replace('Q: ','').replace('Q. ','') for q in questions]\n",
    "\n",
    "    answers = html_soup.find_all('div', class_ = 'panel-body')\n",
    "    answers = [a.text.strip().replace('A: ','').replace('A. ','').replace('\\xa0', '').replace('A:','') for a in answers]\n",
    "\n",
    "    return (questions, answers)\n",
    "\n",
    "\n",
    "def get_cdc_questions():\n",
    "    # Scraping from CDC\n",
    "    url = 'https://www.cdc.gov/coronavirus/2019-ncov/faq.html'\n",
    "    response = get(url)\n",
    "    html_soup = BeautifulSoup(response.text, 'html.parser')\n",
    "\n",
    "    questions = html_soup.find_all('button', class_ = 'card-title btn btn-link')\n",
    "    questions = [q.text for q in questions]\n",
    "\n",
    "    answers = html_soup.find_all('div', class_ = 'collapse')\n",
    "    answers = [a.text for a in answers]\n",
    "    answers.pop(0)\n",
    "\n",
    "    return (questions, answers)\n",
    "\n",
    "def get_who_questions():\n",
    "    # Scraping from WHO\n",
    "    url = 'https://www.who.int/news-room/q-a-detail/q-a-coronaviruses'\n",
    "    response = get(url)\n",
    "    html_soup = BeautifulSoup(response.text, 'html.parser')\n",
    "\n",
    "    questions = html_soup.find_all('a', class_ = 'sf-accordion__link')\n",
    "    questions = [' '.join(q.text.split()) for q in questions]\n",
    "\n",
    "    answers = html_soup.find_all('p', class_ = 'sf-accordion__summary')\n",
    "    answers = [' '.join(q.text.split()) for q in answers]\n",
    "\n",
    "    return (questions, answers)"
   ]
  },
  {
   "cell_type": "code",
   "execution_count": 630,
   "metadata": {
    "hidden": true
   },
   "outputs": [
    {
     "name": "stdout",
     "output_type": "stream",
     "text": [
      "270 270\n"
     ]
    }
   ],
   "source": [
    "questions, answers = get_questions()"
   ]
  },
  {
   "cell_type": "code",
   "execution_count": 643,
   "metadata": {
    "hidden": true
   },
   "outputs": [],
   "source": [
    "# Writing to a file\n",
    "with open(\"corona-questions.txt\", 'w') as f:\n",
    "    for s in questions:\n",
    "        f.write(str(s) + '`')\n",
    "        \n",
    "with open(\"corona-answers.txt\", 'w') as f:\n",
    "    for s in answers:\n",
    "        f.write(str(s) + '`')"
   ]
  },
  {
   "cell_type": "code",
   "execution_count": 644,
   "metadata": {
    "hidden": true
   },
   "outputs": [],
   "source": [
    "# Reading from a file\n",
    "with open(\"corona-questions.txt\", 'r') as f:\n",
    "    mystring = f.read()\n",
    "questions = mystring.split(\"`\")\n",
    "\n",
    "with open(\"corona-answers.txt\", 'r') as f:\n",
    "    mystring = f.read()\n",
    "answers = mystring.split(\"`\")"
   ]
  },
  {
   "cell_type": "code",
   "execution_count": 645,
   "metadata": {
    "hidden": true
   },
   "outputs": [
    {
     "data": {
      "text/plain": [
       "(272, 272)"
      ]
     },
     "execution_count": 645,
     "metadata": {},
     "output_type": "execute_result"
    }
   ],
   "source": [
    "len(questions), len(answers)"
   ]
  },
  {
   "cell_type": "markdown",
   "metadata": {
    "heading_collapsed": true
   },
   "source": [
    "# String Comparison"
   ]
  },
  {
   "cell_type": "markdown",
   "metadata": {
    "hidden": true
   },
   "source": [
    "Using BOW (Bag of Words) and NLTK\n",
    "[Link](https://towardsdatascience.com/calculating-string-similarity-in-python-276e18a7d33a)\n",
    "\n",
    "Levenshtein [Link](https://pypi.org/project/python-Levenshtein/)"
   ]
  },
  {
   "cell_type": "code",
   "execution_count": 375,
   "metadata": {
    "hidden": true
   },
   "outputs": [],
   "source": [
    "import Levenshtein as lev\n",
    "\n",
    "import string\n",
    "from sklearn.metrics.pairwise import cosine_similarity\n",
    "from sklearn.feature_extraction.text import CountVectorizer\n",
    "import nltk\n",
    "from nltk.corpus import stopwords \n",
    "from nltk.tokenize import word_tokenize \n",
    "nltk.download('stopwords')\n",
    "sw = stopwords.words('english')  "
   ]
  },
  {
   "cell_type": "code",
   "execution_count": 401,
   "metadata": {
    "hidden": true
   },
   "outputs": [],
   "source": [
    "def clean_string(text):\n",
    "    text = ''.join([word for word in text if word not in string.punctuation])\n",
    "    text = text.lower()\n",
    "    text = ' '.join([word for word in text.split() if word not in sw])\n",
    "    return text\n",
    "\n",
    "def cosine_sim_vectors(vec1, vec2):\n",
    "    vec1 = vec1.reshape(1,-1)\n",
    "    vec2 = vec2.reshape(1,-1)\n",
    "    \n",
    "    return cosine_similarity(vec1, vec2)[0][0]"
   ]
  },
  {
   "cell_type": "code",
   "execution_count": 543,
   "metadata": {
    "hidden": true
   },
   "outputs": [
    {
     "data": {
      "text/plain": [
       "(270, 614)"
      ]
     },
     "execution_count": 543,
     "metadata": {},
     "output_type": "execute_result"
    }
   ],
   "source": [
    "cleaned = list(map(clean_string, questions))\n",
    "vectoriser = CountVectorizer(cleaned)\n",
    "question_vectors = vectoriser.fit_transform(cleaned[:]).toarray()\n",
    "question_vectors.shape\n",
    "# vectoriser.vocabulary_"
   ]
  },
  {
   "cell_type": "code",
   "execution_count": 559,
   "metadata": {
    "hidden": true
   },
   "outputs": [
    {
     "name": "stdout",
     "output_type": "stream",
     "text": [
      "cosine 0.769800358919501 Should I wear a face covering or face mask when I go out in public?\n",
      "\n",
      "ratio 0.8 Should I get a face mask?\n",
      "Max value and index 0.769800358919501 115\n",
      "Closest question: Should I wear a face covering or face mask when I go out in public?\n",
      "Answer: CDC recommends wearing cloth face coverings in public when other social distancing measures are difficult to maintain (e.g., grocery stores and pharmacies) especially in areas of significant community-based transmission of the coronavirus. The purpose of wearing cloth face coverings in public is to slow the spread of the virus and help people who may have the virus and do not know it from transmitting it to others.\n",
      "238 2\n"
     ]
    }
   ],
   "source": [
    "input_q = \"should i wear a face mask\"\n",
    "\n",
    "ratios = [lev.ratio(input_q, q) for q in questions]\n",
    "\n",
    "input_vector = vectoriser.transform([input_q])\n",
    "cosine_sim = [cosine_sim_vectors(input_vector[0], q) for q in question_vectors]\n",
    "\n",
    "max_value_c = max(cosine_sim)\n",
    "max_index_c = cosine_sim.index(max_value_c)\n",
    "max_value_r = max(ratios)\n",
    "max_index_r = ratios.index(max_value_r)\n",
    "\n",
    "print(\"cosine\", max_value_c, questions[max_index_c])\n",
    "print(\"\\nratio\", max_value_r, questions[max_index_r])\n",
    "\n",
    "\n",
    "if max_value_c > max_value_r:\n",
    "    max_value = max_value_c\n",
    "    max_index = max_index_c\n",
    "else:\n",
    "    max_value = max_value_r\n",
    "    max_index = max_index_r\n",
    "\n",
    "\n",
    "\n",
    "ans = answers[max_index]\n",
    "print(\"Max value and index\", max_value, max_index)\n",
    "print(\"Closest question:\", questions[max_index])\n",
    "print(\"Answer:\", ans)\n",
    "\n",
    "if max_value < 0.7:\n",
    "    print(\"Please ask a question related to COVID-19. \\nFor example: 'What is a coronavirus?'\")\n",
    "\n",
    "else:\n",
    "    # Truncate to under 320 character (1 SMS is 160 characters)\n",
    "    num_sentences = ans.count('.')\n",
    "    while len(ans) > 320:\n",
    "        # print(len(ans), num_sentences)\n",
    "        ans = '.'.join(ans.split('.')[:num_sentences])\n",
    "        num_sentences -= 1\n",
    "\n",
    "    print(len(ans), num_sentences)"
   ]
  },
  {
   "cell_type": "markdown",
   "metadata": {
    "heading_collapsed": true
   },
   "source": [
    "# Using Google Search API"
   ]
  },
  {
   "cell_type": "code",
   "execution_count": 14,
   "metadata": {
    "hidden": true
   },
   "outputs": [],
   "source": [
    "# https://towardsdatascience.com/build-a-simple-chatbot-with-python-and-google-search-c000aa3f73f0"
   ]
  },
  {
   "cell_type": "code",
   "execution_count": 230,
   "metadata": {
    "hidden": true
   },
   "outputs": [],
   "source": [
    "import requests\n",
    "from lxml import html\n",
    "from googlesearch import search\n",
    "from bs4 import BeautifulSoup\n",
    "\n"
   ]
  },
  {
   "cell_type": "code",
   "execution_count": 231,
   "metadata": {
    "hidden": true
   },
   "outputs": [
    {
     "name": "stdout",
     "output_type": "stream",
     "text": [
      "ByLaura Geggel - Associate Editor31 March 2020Wearing a face mask could protect you in crowded situations\n"
     ]
    }
   ],
   "source": [
    "query = \"Should I wear a face mask for covid?\"\n",
    "\n",
    "## Google Search query results as a Python List of URLs\n",
    "search_result_list = list(search(query, tld=\"co.in\", num=10, stop=3, pause=1))\n",
    "\n",
    "page = requests.get(search_result_list[0])\n",
    "\n",
    "tree = html.fromstring(page.content)\n",
    "\n",
    "soup = BeautifulSoup(page.content, features=\"lxml\")\n",
    "\n",
    "\n",
    "article_text = ''\n",
    "article = soup.findAll('p')\n",
    "for element in article:\n",
    "    article_text += '\\n' + ''.join(element.findAll(text = True))\n",
    "article_text = article_text.replace('\\n', '')\n",
    "first_sentence = article_text.split('.')\n",
    "first_sentence = first_sentence[0].split('?')[0]\n",
    "\n",
    "print(first_sentence)"
   ]
  },
  {
   "cell_type": "code",
   "execution_count": 711,
   "metadata": {
    "hidden": true
   },
   "outputs": [],
   "source": [
    "# page.content"
   ]
  }
 ],
 "metadata": {
  "kernelspec": {
   "display_name": "Python 3",
   "language": "python",
   "name": "python3"
  },
  "language_info": {
   "codemirror_mode": {
    "name": "ipython",
    "version": 3
   },
   "file_extension": ".py",
   "mimetype": "text/x-python",
   "name": "python",
   "nbconvert_exporter": "python",
   "pygments_lexer": "ipython3",
   "version": "3.7.6"
  }
 },
 "nbformat": 4,
 "nbformat_minor": 4
}
