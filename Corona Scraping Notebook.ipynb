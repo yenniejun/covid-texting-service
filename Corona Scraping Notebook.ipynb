{
 "cells": [
  {
   "cell_type": "code",
   "execution_count": 1,
   "metadata": {},
   "outputs": [],
   "source": [
    "import re\n",
    "from selenium import webdriver\n",
    "from selenium.webdriver.common.keys import Keys\n",
    "import itertools\n",
    "import pandas as pd\n",
    "# import corona\n",
    "import numpy as np"
   ]
  },
  {
   "cell_type": "markdown",
   "metadata": {
    "heading_collapsed": true
   },
   "source": [
    "# Covid Texting/Email\n",
    "Inspired by this [blog post](https://towardsdatascience.com/how-to-track-coronavirus-with-python-a5320b778c8e)"
   ]
  },
  {
   "cell_type": "code",
   "execution_count": 3,
   "metadata": {
    "hidden": true
   },
   "outputs": [],
   "source": [
    "class Coronavirus():\n",
    "  def __init__(self, link):\n",
    "    self.driver = webdriver.Chrome()\n",
    "    self.driver.get(link)"
   ]
  },
  {
   "cell_type": "code",
   "execution_count": null,
   "metadata": {
    "hidden": true
   },
   "outputs": [],
   "source": [
    "# bot_world = Coronavirus('https://www.worldometers.info/coronavirus/')\n",
    "# bot_us = Coronavirus('https://www.worldometers.info/coronavirus/country/us/')\n",
    "# bot_la = Coronavirus('http://ldh.la.gov/Coronavirus/')"
   ]
  },
  {
   "cell_type": "markdown",
   "metadata": {
    "heading_collapsed": true,
    "hidden": true
   },
   "source": [
    "## Louisiana Parishes"
   ]
  },
  {
   "cell_type": "code",
   "execution_count": 42,
   "metadata": {
    "hidden": true
   },
   "outputs": [],
   "source": [
    "bot_la = Coronavirus('https://www.arcgis.com/apps/opsdashboard/index.html#/69b726e2b82e408f89c3a54f96e8f776')\n"
   ]
  },
  {
   "cell_type": "code",
   "execution_count": 48,
   "metadata": {
    "hidden": true
   },
   "outputs": [],
   "source": [
    "lines = bot_la.driver.find_elements_by_xpath('//*[@id=\"ember56\"]/div/nav/span/div/div/p[2]/strong')\n",
    "lines = [line.get_attribute(\"innerHTML\") for line in lines]\n"
   ]
  },
  {
   "cell_type": "code",
   "execution_count": 49,
   "metadata": {
    "hidden": true
   },
   "outputs": [],
   "source": [
    "# https://stackoverflow.com/questions/1624883/alternative-way-to-split-a-list-into-groups-of-n\n",
    "def grouper(n, iterable, fillvalue=None):\n",
    "    \"grouper(3, 'ABCDEFG', 'x') --> ABC DEF Gxx\"\n",
    "    args = [iter(iterable)] * n\n",
    "    return itertools.zip_longest(*args, fillvalue=fillvalue)"
   ]
  },
  {
   "cell_type": "code",
   "execution_count": 50,
   "metadata": {
    "hidden": true
   },
   "outputs": [],
   "source": [
    "grouped_list = list(grouper(3, lines))"
   ]
  },
  {
   "cell_type": "code",
   "execution_count": 51,
   "metadata": {
    "hidden": true
   },
   "outputs": [],
   "source": [
    "df = pd.DataFrame(grouped_list, columns =['Parish', 'Cases', 'Deaths']) "
   ]
  },
  {
   "cell_type": "code",
   "execution_count": 73,
   "metadata": {
    "hidden": true
   },
   "outputs": [
    {
     "data": {
      "text/html": [
       "<div>\n",
       "<style scoped>\n",
       "    .dataframe tbody tr th:only-of-type {\n",
       "        vertical-align: middle;\n",
       "    }\n",
       "\n",
       "    .dataframe tbody tr th {\n",
       "        vertical-align: top;\n",
       "    }\n",
       "\n",
       "    .dataframe thead th {\n",
       "        text-align: right;\n",
       "    }\n",
       "</style>\n",
       "<table border=\"1\" class=\"dataframe\">\n",
       "  <thead>\n",
       "    <tr style=\"text-align: right;\">\n",
       "      <th></th>\n",
       "      <th>Parish</th>\n",
       "      <th>Cases</th>\n",
       "      <th>Deaths</th>\n",
       "    </tr>\n",
       "  </thead>\n",
       "  <tbody>\n",
       "    <tr>\n",
       "      <th>0</th>\n",
       "      <td>Orleans</td>\n",
       "      <td>451</td>\n",
       "      <td>15</td>\n",
       "    </tr>\n",
       "    <tr>\n",
       "      <th>1</th>\n",
       "      <td>Jefferson</td>\n",
       "      <td>184</td>\n",
       "      <td>3</td>\n",
       "    </tr>\n",
       "    <tr>\n",
       "      <th>2</th>\n",
       "      <td>Catahoula</td>\n",
       "      <td>1</td>\n",
       "      <td>1</td>\n",
       "    </tr>\n",
       "    <tr>\n",
       "      <th>3</th>\n",
       "      <td>St. James</td>\n",
       "      <td>1</td>\n",
       "      <td>1</td>\n",
       "    </tr>\n",
       "    <tr>\n",
       "      <th>4</th>\n",
       "      <td>St. Tammany</td>\n",
       "      <td>25</td>\n",
       "      <td>0</td>\n",
       "    </tr>\n",
       "    <tr>\n",
       "      <th>...</th>\n",
       "      <td>...</td>\n",
       "      <td>...</td>\n",
       "      <td>...</td>\n",
       "    </tr>\n",
       "    <tr>\n",
       "      <th>60</th>\n",
       "      <td>Vermilion</td>\n",
       "      <td>0</td>\n",
       "      <td>0</td>\n",
       "    </tr>\n",
       "    <tr>\n",
       "      <th>61</th>\n",
       "      <td>Vernon</td>\n",
       "      <td>0</td>\n",
       "      <td>0</td>\n",
       "    </tr>\n",
       "    <tr>\n",
       "      <th>62</th>\n",
       "      <td>West Carroll</td>\n",
       "      <td>0</td>\n",
       "      <td>0</td>\n",
       "    </tr>\n",
       "    <tr>\n",
       "      <th>63</th>\n",
       "      <td>West Feliciana</td>\n",
       "      <td>0</td>\n",
       "      <td>0</td>\n",
       "    </tr>\n",
       "    <tr>\n",
       "      <th>64</th>\n",
       "      <td>Winn</td>\n",
       "      <td>0</td>\n",
       "      <td>0</td>\n",
       "    </tr>\n",
       "  </tbody>\n",
       "</table>\n",
       "<p>65 rows × 3 columns</p>\n",
       "</div>"
      ],
      "text/plain": [
       "                        Parish Cases Deaths\n",
       "0   Orleans                      451     15\n",
       "1   Jefferson                    184      3\n",
       "2   Catahoula                      1      1\n",
       "3   St. James                      1      1\n",
       "4   St. Tammany                   25      0\n",
       "..                         ...   ...    ...\n",
       "60  Vermilion                      0      0\n",
       "61  Vernon                         0      0\n",
       "62  West Carroll                   0      0\n",
       "63  West Feliciana                 0      0\n",
       "64  Winn                           0      0\n",
       "\n",
       "[65 rows x 3 columns]"
      ]
     },
     "execution_count": 73,
     "metadata": {},
     "output_type": "execute_result"
    }
   ],
   "source": [
    "df"
   ]
  },
  {
   "cell_type": "code",
   "execution_count": 59,
   "metadata": {
    "hidden": true
   },
   "outputs": [],
   "source": [
    "parish_lens = [len(p) for p in df.Parish.values]"
   ]
  },
  {
   "cell_type": "code",
   "execution_count": 65,
   "metadata": {
    "hidden": true
   },
   "outputs": [],
   "source": [
    "max_val = max(parish_lens)\n"
   ]
  },
  {
   "cell_type": "code",
   "execution_count": 72,
   "metadata": {
    "hidden": true
   },
   "outputs": [],
   "source": [
    "df['Parish'] = ['{:26}'.format(p) for p in df.Parish.values]\n"
   ]
  },
  {
   "cell_type": "code",
   "execution_count": 70,
   "metadata": {
    "hidden": true
   },
   "outputs": [
    {
     "data": {
      "text/plain": [
       "['Orleans                   ',\n",
       " 'Jefferson                 ',\n",
       " 'Catahoula                 ',\n",
       " 'St. James                 ',\n",
       " 'St. Tammany               ',\n",
       " 'East Baton Rouge          ',\n",
       " 'Ascension                 ',\n",
       " 'Caddo                     ',\n",
       " 'St. Bernard               ',\n",
       " 'Lafourche                 ',\n",
       " 'Terrebonne                ',\n",
       " 'Parish Under Investigation',\n",
       " 'St. John the Baptist      ',\n",
       " 'St. Charles               ',\n",
       " 'Lafayette                 ',\n",
       " 'Bossier                   ',\n",
       " 'Plaquemines               ',\n",
       " 'Calcasieu                 ',\n",
       " 'Ouachita                  ',\n",
       " 'Rapides                   ',\n",
       " 'St. Landry                ',\n",
       " 'Tangipahoa                ',\n",
       " 'West Baton Rouge          ',\n",
       " 'De Soto                   ',\n",
       " 'Evangeline                ',\n",
       " 'Iberia                    ',\n",
       " 'Iberville                 ',\n",
       " 'Livingston                ',\n",
       " 'Washington                ',\n",
       " 'Acadia                    ',\n",
       " 'Assumption                ',\n",
       " 'Avoyelles                 ',\n",
       " 'Beauregard                ',\n",
       " 'Bienville                 ',\n",
       " 'Claiborne                 ',\n",
       " 'St. Mary                  ',\n",
       " 'Webster                   ',\n",
       " 'Allen                     ',\n",
       " 'Caldwell                  ',\n",
       " 'Cameron                   ',\n",
       " 'Concordia                 ',\n",
       " 'East Carroll              ',\n",
       " 'East Feliciana            ',\n",
       " 'Franklin                  ',\n",
       " 'Grant                     ',\n",
       " 'Jackson                   ',\n",
       " 'Jefferson Davis           ',\n",
       " 'La Salle                  ',\n",
       " 'Lincoln                   ',\n",
       " 'Madison                   ',\n",
       " 'Morehouse                 ',\n",
       " 'Natchitoches              ',\n",
       " 'Pointe Coupee             ',\n",
       " 'Red River                 ',\n",
       " 'Richland                  ',\n",
       " 'Sabine                    ',\n",
       " 'St. Helena                ',\n",
       " 'St. Martin                ',\n",
       " 'Tensas                    ',\n",
       " 'Union                     ',\n",
       " 'Vermilion                 ',\n",
       " 'Vernon                    ',\n",
       " 'West Carroll              ',\n",
       " 'West Feliciana            ',\n",
       " 'Winn                      ']"
      ]
     },
     "execution_count": 70,
     "metadata": {},
     "output_type": "execute_result"
    }
   ],
   "source": [
    "['{:26}'.format(p) for p in df.Parish.values]\n"
   ]
  },
  {
   "cell_type": "markdown",
   "metadata": {
    "hidden": true
   },
   "source": []
  },
  {
   "cell_type": "markdown",
   "metadata": {
    "hidden": true
   },
   "source": [
    "## US States"
   ]
  },
  {
   "cell_type": "code",
   "execution_count": 215,
   "metadata": {
    "hidden": true
   },
   "outputs": [],
   "source": [
    "bot_us = corona.get_us_bot()\n"
   ]
  },
  {
   "cell_type": "code",
   "execution_count": 66,
   "metadata": {
    "hidden": true
   },
   "outputs": [],
   "source": [
    "df_us.to_csv('us_states_df.csv')"
   ]
  },
  {
   "cell_type": "code",
   "execution_count": 132,
   "metadata": {
    "hidden": true
   },
   "outputs": [],
   "source": [
    "us_data = pd.read_csv('us_states_df.csv')\n",
    "us_data.drop(columns=\"Unnamed: 0\", inplace=True)\n",
    "us_data.State.replace(\"<strong>Total:</strong>\", \"Total\", inplace=True)\n",
    "\n",
    "total = us_data[53:54]\n",
    "# us_data[0:51]#.sort_values(by='State')\n"
   ]
  },
  {
   "cell_type": "code",
   "execution_count": 127,
   "metadata": {
    "hidden": true
   },
   "outputs": [],
   "source": [
    "# this is for from the dataframe\n",
    "us_data.NewCases = us_data.NewCases.str.replace(\"+\",\"\")\n",
    "us_data.NewCases = us_data.NewCases.str.replace(\",\",\"\").fillna(0).astype(int)\n",
    "\n",
    "us_data.TotalCases = us_data.TotalCases.str.replace(\",\",\"\").fillna(0).astype(int)\n",
    "us_data.TotalDeaths = us_data.TotalDeaths.fillna(0).astype(int)\n",
    "us_data.NewDeaths = us_data.NewDeaths.fillna(0).astype(int)\n",
    "\n",
    "us_data[\"CasePercentInc\"] = us_data.NewCases.str.replace(\",\",\"\").fillna(0).astype(int) / (us_data.TotalCases.str.replace(\",\",\"\").fillna(0).astype(int) - us_data.NewCases.str.replace(\",\",\"\").fillna(0).astype(int))\n",
    "us_data[\"DeathPercentInc\"] = us_data.NewDeaths / (us_data.TotalDeaths - us_data.NewDeaths)\n"
   ]
  },
  {
   "cell_type": "code",
   "execution_count": 72,
   "metadata": {
    "hidden": true
   },
   "outputs": [
    {
     "data": {
      "text/html": [
       "<div>\n",
       "<style scoped>\n",
       "    .dataframe tbody tr th:only-of-type {\n",
       "        vertical-align: middle;\n",
       "    }\n",
       "\n",
       "    .dataframe tbody tr th {\n",
       "        vertical-align: top;\n",
       "    }\n",
       "\n",
       "    .dataframe thead th {\n",
       "        text-align: right;\n",
       "    }\n",
       "</style>\n",
       "<table border=\"1\" class=\"dataframe\">\n",
       "  <thead>\n",
       "    <tr style=\"text-align: right;\">\n",
       "      <th></th>\n",
       "      <th>State</th>\n",
       "      <th>TotalCases</th>\n",
       "      <th>NewCases</th>\n",
       "      <th>TotalDeaths</th>\n",
       "      <th>NewDeaths</th>\n",
       "    </tr>\n",
       "  </thead>\n",
       "  <tbody>\n",
       "    <tr>\n",
       "      <th>53</th>\n",
       "      <td>Total</td>\n",
       "      <td>52,447</td>\n",
       "      <td>8,713</td>\n",
       "      <td>674.0</td>\n",
       "      <td>121.0</td>\n",
       "    </tr>\n",
       "  </tbody>\n",
       "</table>\n",
       "</div>"
      ],
      "text/plain": [
       "    State TotalCases NewCases  TotalDeaths  NewDeaths\n",
       "53  Total     52,447    8,713        674.0      121.0"
      ]
     },
     "execution_count": 72,
     "metadata": {},
     "output_type": "execute_result"
    }
   ],
   "source": [
    "total"
   ]
  },
  {
   "cell_type": "code",
   "execution_count": 60,
   "metadata": {
    "hidden": true
   },
   "outputs": [],
   "source": [
    "# pd.set_option('display.max_rows', us_data.shape[0]+1)"
   ]
  },
  {
   "cell_type": "code",
   "execution_count": 220,
   "metadata": {
    "hidden": true
   },
   "outputs": [],
   "source": [
    "# this is for directly from the source\n",
    "df_us = corona.get_states_df(bot_us)\n",
    "\n",
    "us_data = df_us.copy()\n",
    "us_data.State.replace(\"<strong>Total:</strong>\", \"Total\", inplace=True)\n",
    "total = us_data[53:54]\n",
    "us_data = us_data[0:51]#.sort_values(by='State')\n",
    "\n",
    "us_data.NewCases = us_data.NewCases.str.replace(\"+\",\"\")\n",
    "us_data.NewCases.str.replace(\",\",\"\").fillna(0)\n",
    "us_data.replace(r'^\\s*$', np.nan, regex=True, inplace=True)\n",
    "us_data[\"CasePercentInc\"] = us_data.NewCases.str.replace(\",\",\"\").fillna(0).astype(int) / (us_data.TotalCases.str.replace(\",\",\"\").fillna(0).astype(int) - us_data.NewCases.str.replace(\",\",\"\").fillna(0).astype(int))\n",
    "us_data[\"DeathPercentInc\"] = us_data.NewDeaths.fillna(0).astype(int) / (us_data.TotalDeaths.fillna(0).astype(int) - us_data.NewDeaths.fillna(0).astype(int))\n",
    "                                                                              \n",
    "   "
   ]
  },
  {
   "cell_type": "code",
   "execution_count": 182,
   "metadata": {
    "hidden": true
   },
   "outputs": [
    {
     "data": {
      "text/plain": [
       "'22.9'"
      ]
     },
     "execution_count": 182,
     "metadata": {},
     "output_type": "execute_result"
    }
   ],
   "source": [
    "\n",
    "\"{:.1f}\".format(us_data.CasePercentInc.values[0] * 100)"
   ]
  },
  {
   "cell_type": "code",
   "execution_count": 224,
   "metadata": {
    "hidden": true
   },
   "outputs": [
    {
     "name": "stdout",
     "output_type": "stream",
     "text": [
      "      State TotalCases NewCases TotalDeaths NewDeaths stripped_state\n",
      "45  Montana         46       +1                              montana\n"
     ]
    }
   ],
   "source": [
    "m = corona.get_us_state(bot_us, 'montana')"
   ]
  },
  {
   "cell_type": "code",
   "execution_count": 211,
   "metadata": {
    "hidden": true
   },
   "outputs": [
    {
     "data": {
      "text/plain": [
       "dtype('O')"
      ]
     },
     "execution_count": 211,
     "metadata": {},
     "output_type": "execute_result"
    }
   ],
   "source": [
    "m.State.dtypes"
   ]
  },
  {
   "cell_type": "code",
   "execution_count": 212,
   "metadata": {
    "hidden": true
   },
   "outputs": [
    {
     "data": {
      "text/plain": [
       "45    \n",
       "Name: NewDeaths, dtype: object"
      ]
     },
     "execution_count": 212,
     "metadata": {},
     "output_type": "execute_result"
    }
   ],
   "source": [
    "m.NewDeaths.fillna(0)"
   ]
  },
  {
   "cell_type": "code",
   "execution_count": 225,
   "metadata": {
    "hidden": true
   },
   "outputs": [
    {
     "data": {
      "text/html": [
       "<div>\n",
       "<style scoped>\n",
       "    .dataframe tbody tr th:only-of-type {\n",
       "        vertical-align: middle;\n",
       "    }\n",
       "\n",
       "    .dataframe tbody tr th {\n",
       "        vertical-align: top;\n",
       "    }\n",
       "\n",
       "    .dataframe thead th {\n",
       "        text-align: right;\n",
       "    }\n",
       "</style>\n",
       "<table border=\"1\" class=\"dataframe\">\n",
       "  <thead>\n",
       "    <tr style=\"text-align: right;\">\n",
       "      <th></th>\n",
       "      <th>State</th>\n",
       "      <th>TotalCases</th>\n",
       "      <th>NewCases</th>\n",
       "      <th>TotalDeaths</th>\n",
       "      <th>NewDeaths</th>\n",
       "      <th>stripped_state</th>\n",
       "    </tr>\n",
       "  </thead>\n",
       "  <tbody>\n",
       "    <tr>\n",
       "      <th>45</th>\n",
       "      <td>Montana</td>\n",
       "      <td>46</td>\n",
       "      <td>+1</td>\n",
       "      <td></td>\n",
       "      <td></td>\n",
       "      <td>montana</td>\n",
       "    </tr>\n",
       "  </tbody>\n",
       "</table>\n",
       "</div>"
      ],
      "text/plain": [
       "      State TotalCases NewCases TotalDeaths NewDeaths stripped_state\n",
       "45  Montana         46       +1                              montana"
      ]
     },
     "execution_count": 225,
     "metadata": {},
     "output_type": "execute_result"
    }
   ],
   "source": [
    "m"
   ]
  },
  {
   "cell_type": "code",
   "execution_count": 246,
   "metadata": {
    "hidden": true
   },
   "outputs": [],
   "source": [
    "def get_states_df(bot_us):\n",
    "\tstates = bot_us.driver.find_elements_by_xpath(\"//tbody/tr/td\")\n",
    "\tlines = [\" \".join(state.get_attribute(\"innerHTML\").split()) for state in states]\n",
    "\tgrouped_list = list(corona.grouper(7, lines))\n",
    "\tdf = pd.DataFrame(grouped_list).iloc[:,0:5]\n",
    "\tdf.columns =['State', 'TotalCases', 'NewCases', 'TotalDeaths', 'NewDeaths']\n",
    "\tdf.State.replace(\"<strong>Total:</strong>\", \"Total\", inplace=True)\n",
    "\treturn df[0:54]"
   ]
  },
  {
   "cell_type": "code",
   "execution_count": 260,
   "metadata": {
    "hidden": true
   },
   "outputs": [],
   "source": [
    "df = get_states_df(bot_us)\n"
   ]
  },
  {
   "cell_type": "code",
   "execution_count": 261,
   "metadata": {
    "hidden": true
   },
   "outputs": [],
   "source": [
    "df['stripped_state'] = [corona.clean_text(p) for p in df.State.values]\n",
    "df.replace(r'^\\s*$', np.nan, regex=True, inplace=True)\n",
    "df.NewCases = df.NewCases.str.replace(\"+\",\"\").fillna(0)\n",
    "df.NewDeaths = df.NewDeaths.str.replace(\"+\",\"\").fillna(0)\n"
   ]
  },
  {
   "cell_type": "code",
   "execution_count": 262,
   "metadata": {
    "hidden": true
   },
   "outputs": [
    {
     "data": {
      "text/plain": [
       "0     4790\n",
       "1      831\n",
       "2      361\n",
       "3        0\n",
       "4      463\n",
       "5      250\n",
       "6      185\n",
       "7      216\n",
       "8      382\n",
       "9      223\n",
       "10     207\n",
       "11      20\n",
       "12       0\n",
       "13      52\n",
       "14     203\n",
       "15     122\n",
       "16      49\n",
       "17      41\n",
       "18     106\n",
       "19      61\n",
       "20      43\n",
       "21      92\n",
       "22      71\n",
       "23      41\n",
       "24      36\n",
       "25      33\n",
       "26      27\n",
       "27      59\n",
       "28      21\n",
       "29      19\n",
       "30      18\n",
       "31      33\n",
       "32       0\n",
       "33      19\n",
       "34      18\n",
       "35      11\n",
       "36      25\n",
       "37       0\n",
       "38      16\n",
       "39      20\n",
       "40      23\n",
       "41       0\n",
       "42      34\n",
       "43       0\n",
       "44      11\n",
       "45       1\n",
       "46       4\n",
       "47       2\n",
       "48       2\n",
       "49       4\n",
       "50       4\n",
       "51       0\n",
       "52       0\n",
       "53    9249\n",
       "Name: NewCases, dtype: object"
      ]
     },
     "execution_count": 262,
     "metadata": {},
     "output_type": "execute_result"
    }
   ],
   "source": [
    "df.NewCases.str.replace(\",\",\"\").fillna(0)#.astype(int)"
   ]
  },
  {
   "cell_type": "code",
   "execution_count": 263,
   "metadata": {
    "hidden": true
   },
   "outputs": [],
   "source": [
    "state = \"montana\""
   ]
  },
  {
   "cell_type": "code",
   "execution_count": 264,
   "metadata": {
    "hidden": true
   },
   "outputs": [],
   "source": [
    "df['stripped_state'] = [corona.clean_text(p) for p in df.State.values]\n",
    "df.replace(r'^\\s*$', np.nan, regex=True, inplace=True)\n",
    "df.NewCases = df.NewCases.str.replace(\"+\",\"\").fillna(0)\n",
    "df.NewDeaths = df.NewDeaths.str.replace(\"+\",\"\").fillna(0)\n",
    "df.TotalDeaths = df.TotalDeaths.fillna(0)\n",
    "\n",
    "df[\"CasePercentInc\"] = df.NewCases.str.replace(\",\",\"\").fillna(0).astype(int) / (df.TotalCases.str.replace(\",\",\"\").fillna(0).astype(int) - df.NewCases.str.replace(\",\",\"\").fillna(0).astype(int))\n",
    "df[\"DeathPercentInc\"] = df.NewDeaths.fillna(0).astype(int) / (df.TotalDeaths.fillna(0).astype(int) - df.NewDeaths.fillna(0).astype(int))\n",
    "\n",
    "state = df[df.stripped_state == state]"
   ]
  },
  {
   "cell_type": "code",
   "execution_count": 265,
   "metadata": {
    "hidden": true
   },
   "outputs": [],
   "source": [
    "state_name = state.State.values[0]\n",
    "total_cases = state.TotalCases.values[0]\n",
    "new_cases = state.NewCases.values[0]  or 0\n",
    "case_percent = str(\"{:.1f}\".format(state.CasePercentInc.values[0] * 100)) + \"%\"\n",
    "total_deaths = state.TotalDeaths.values[0] or 0\n",
    "new_deaths = state.NewDeaths.values[0] or 0\n",
    "death_percent = str(\"{:.1f}\".format(state.DeathPercentInc.values[0] * 100)) + \"%\"\n",
    "\n"
   ]
  },
  {
   "cell_type": "code",
   "execution_count": 266,
   "metadata": {
    "hidden": true
   },
   "outputs": [
    {
     "data": {
      "text/html": [
       "<div>\n",
       "<style scoped>\n",
       "    .dataframe tbody tr th:only-of-type {\n",
       "        vertical-align: middle;\n",
       "    }\n",
       "\n",
       "    .dataframe tbody tr th {\n",
       "        vertical-align: top;\n",
       "    }\n",
       "\n",
       "    .dataframe thead th {\n",
       "        text-align: right;\n",
       "    }\n",
       "</style>\n",
       "<table border=\"1\" class=\"dataframe\">\n",
       "  <thead>\n",
       "    <tr style=\"text-align: right;\">\n",
       "      <th></th>\n",
       "      <th>State</th>\n",
       "      <th>TotalCases</th>\n",
       "      <th>NewCases</th>\n",
       "      <th>TotalDeaths</th>\n",
       "      <th>NewDeaths</th>\n",
       "      <th>stripped_state</th>\n",
       "      <th>CasePercentInc</th>\n",
       "      <th>DeathPercentInc</th>\n",
       "    </tr>\n",
       "  </thead>\n",
       "  <tbody>\n",
       "    <tr>\n",
       "      <th>45</th>\n",
       "      <td>Montana</td>\n",
       "      <td>46</td>\n",
       "      <td>1</td>\n",
       "      <td>0</td>\n",
       "      <td>0</td>\n",
       "      <td>montana</td>\n",
       "      <td>0.022222</td>\n",
       "      <td>NaN</td>\n",
       "    </tr>\n",
       "  </tbody>\n",
       "</table>\n",
       "</div>"
      ],
      "text/plain": [
       "      State TotalCases NewCases TotalDeaths NewDeaths stripped_state  \\\n",
       "45  Montana         46        1           0         0        montana   \n",
       "\n",
       "    CasePercentInc  DeathPercentInc  \n",
       "45        0.022222              NaN  "
      ]
     },
     "execution_count": 266,
     "metadata": {},
     "output_type": "execute_result"
    }
   ],
   "source": [
    "state"
   ]
  },
  {
   "cell_type": "markdown",
   "metadata": {},
   "source": [
    "# Q&A Scraping FAQ"
   ]
  },
  {
   "cell_type": "code",
   "execution_count": 229,
   "metadata": {},
   "outputs": [],
   "source": [
    "from bs4 import BeautifulSoup\n",
    "from requests import get\n",
    "import difflib"
   ]
  },
  {
   "cell_type": "code",
   "execution_count": 629,
   "metadata": {},
   "outputs": [],
   "source": [
    "def get_questions():\n",
    "    who_q, who_a = get_who_questions()\n",
    "    cdc_q, cdc_a = get_cdc_questions()\n",
    "    fda_q, fda_a = get_fda_questions()\n",
    "    jhm_q, jhm_a = get_jhm_questions()\n",
    "    cnn_q, cnn_a = get_cnn_questions()\n",
    "    questions = who_q + cdc_q + fda_q + jhm_q + cnn_q\n",
    "    answers = who_a + cdc_a + fda_a + jhm_a + cnn_a\n",
    "    print(len(answers), len(questions))\n",
    "    return (questions, answers)\n",
    "\n",
    "def get_cnn_questions():\n",
    "    # Scraping from CNN FAQ\n",
    "    url = 'https://www.cnn.com/interactive/2020/health/coronavirus-questions-answers/'\n",
    "    response = get(url)\n",
    "    html_soup = BeautifulSoup(response.text, 'html.parser')\n",
    "\n",
    "    questions = html_soup.find_all('div', class_='question-q')\n",
    "    questions = [q.text.strip().replace('\\x99','').replace('\\x80','').replace('â',\"'\") for q in questions]\n",
    "\n",
    "    answers = html_soup.find_all('div', class_='question-a')\n",
    "    answers = [a.text.strip().replace('\\x99','').replace('\\x80','').replace('\\x93','').replace('\\x94','').replace('â',\"'\").replace('\\x9c','').replace('\\x9d','') for a in answers]\n",
    "\n",
    "    return (questions, answers)\n",
    "\n",
    "\n",
    "def get_jhm_questions():\n",
    "    # Scraping from Johns Hopkins Medicine\n",
    "    url = 'https://www.hopkinsmedicine.org/health/conditions-and-diseases/coronavirus/coronavirus-frequently-asked-questions'\n",
    "    response = get(url)\n",
    "    html_soup = BeautifulSoup(response.text, 'html.parser')\n",
    "\n",
    "    questions = []\n",
    "    answers = []\n",
    "\n",
    "    for header in html_soup.find_all('h3'):\n",
    "        para = header.find_next_sibling('p')\n",
    "        questions.append(header.text.strip())\n",
    "        if para:\n",
    "            answers.append(para.text.strip().replace('\\n',' ').replace('\\xa0',''))\n",
    "            \n",
    "    questions = questions[:-3]\n",
    "\n",
    "    return (questions, answers)\n",
    "\n",
    "def get_fda_questions():\n",
    "    # Scraping from FDA\n",
    "    url = 'https://www.fda.gov/emergency-preparedness-and-response/coronavirus-disease-2019-covid-19/coronavirus-disease-2019-covid-19-frequently-asked-questions'\n",
    "    response = get(url)\n",
    "    html_soup = BeautifulSoup(response.text, 'html.parser')\n",
    "\n",
    "    questions = html_soup.find_all('div', class_ = 'panel-heading')\n",
    "    questions = [q.text.strip().replace('Q: ','').replace('Q. ','') for q in questions]\n",
    "\n",
    "    answers = html_soup.find_all('div', class_ = 'panel-body')\n",
    "    answers = [a.text.strip().replace('A: ','').replace('A. ','').replace('\\xa0', '').replace('A:','') for a in answers]\n",
    "\n",
    "    return (questions, answers)\n",
    "\n",
    "\n",
    "def get_cdc_questions():\n",
    "    # Scraping from CDC\n",
    "    url = 'https://www.cdc.gov/coronavirus/2019-ncov/faq.html'\n",
    "    response = get(url)\n",
    "    html_soup = BeautifulSoup(response.text, 'html.parser')\n",
    "\n",
    "    questions = html_soup.find_all('button', class_ = 'card-title btn btn-link')\n",
    "    questions = [q.text for q in questions]\n",
    "\n",
    "    answers = html_soup.find_all('div', class_ = 'collapse')\n",
    "    answers = [a.text for a in answers]\n",
    "    answers.pop(0)\n",
    "\n",
    "    return (questions, answers)\n",
    "\n",
    "def get_who_questions():\n",
    "    # Scraping from WHO\n",
    "    url = 'https://www.who.int/news-room/q-a-detail/q-a-coronaviruses'\n",
    "    response = get(url)\n",
    "    html_soup = BeautifulSoup(response.text, 'html.parser')\n",
    "\n",
    "    questions = html_soup.find_all('a', class_ = 'sf-accordion__link')\n",
    "    questions = [' '.join(q.text.split()) for q in questions]\n",
    "\n",
    "    answers = html_soup.find_all('p', class_ = 'sf-accordion__summary')\n",
    "    answers = [' '.join(q.text.split()) for q in answers]\n",
    "\n",
    "    return (questions, answers)"
   ]
  },
  {
   "cell_type": "code",
   "execution_count": 630,
   "metadata": {},
   "outputs": [
    {
     "name": "stdout",
     "output_type": "stream",
     "text": [
      "270 270\n"
     ]
    }
   ],
   "source": [
    "questions, answers = get_questions()"
   ]
  },
  {
   "cell_type": "code",
   "execution_count": 643,
   "metadata": {},
   "outputs": [],
   "source": [
    "# Writing to a file\n",
    "with open(\"corona-questions.txt\", 'w') as f:\n",
    "    for s in questions:\n",
    "        f.write(str(s) + '`')\n",
    "        \n",
    "with open(\"corona-answers.txt\", 'w') as f:\n",
    "    for s in answers:\n",
    "        f.write(str(s) + '`')"
   ]
  },
  {
   "cell_type": "code",
   "execution_count": 2,
   "metadata": {},
   "outputs": [],
   "source": [
    "# Reading from a file\n",
    "with open(\"corona-questions.txt\", 'r') as f:\n",
    "    mystring = f.read()\n",
    "questions = mystring.split(\"`\")\n",
    "\n",
    "with open(\"corona-answers.txt\", 'r') as f:\n",
    "    mystring = f.read()\n",
    "answers = mystring.split(\"`\")"
   ]
  },
  {
   "cell_type": "code",
   "execution_count": 3,
   "metadata": {},
   "outputs": [
    {
     "data": {
      "text/plain": [
       "(272, 272)"
      ]
     },
     "execution_count": 3,
     "metadata": {},
     "output_type": "execute_result"
    }
   ],
   "source": [
    "len(questions), len(answers)"
   ]
  },
  {
   "cell_type": "code",
   "execution_count": 9,
   "metadata": {},
   "outputs": [
    {
     "data": {
      "text/plain": [
       "'No. Antibiotics do not work against viruses, they only work on bacterial infections. COVID-19 is caused by a virus, so antibiotics do not work. Antibiotics should not be used as a means of prevention or treatment of COVID-19. They should only be used as directed by a physician to treat a bacterial infection.'"
      ]
     },
     "execution_count": 9,
     "metadata": {},
     "output_type": "execute_result"
    }
   ],
   "source": [
    "answers[8]"
   ]
  },
  {
   "cell_type": "code",
   "execution_count": null,
   "metadata": {},
   "outputs": [],
   "source": [
    "COVID-19 is the infectious disease caused by the most recently discovered coronavirus. This new virus began in Wuhan, China, in December 2019.\n",
    "\n",
    "\n"
   ]
  },
  {
   "cell_type": "code",
   "execution_count": 18,
   "metadata": {},
   "outputs": [],
   "source": [
    "def shorten_sentence(sent):\n",
    "    num_sentences = sent.count('.')\n",
    "    ans = sent\n",
    "    while len(ans) > 160:\n",
    "        # print(len(ans), num_sentences)\n",
    "        ans = '.'.join(sent.split('.')[:num_sentences])\n",
    "        num_sentences -= 1\n",
    "    return ans"
   ]
  },
  {
   "cell_type": "code",
   "execution_count": 21,
   "metadata": {},
   "outputs": [
    {
     "data": {
      "text/plain": [
       "['Coronaviruses are a large family of viruses which may cause illness in animals or humans',\n",
       " 'COVID-19 is the infectious disease caused by the most recently discovered coronavirus',\n",
       " 'The most common symptoms of COVID-19 are fever, tiredness, and dry cough',\n",
       " 'People can catch COVID-19 from others who have the virus',\n",
       " '',\n",
       " 'The risk depends on where you are - and more specifically, whether there is a COVID-19 outbreak unfolding there',\n",
       " 'Illness due to COVID-19 infection is generally mild, especially for children and young adults',\n",
       " '',\n",
       " 'No. Antibiotics do not work against viruses, they only work on bacterial infections. COVID-19 is caused by a virus, so antibiotics do not work',\n",
       " '',\n",
       " 'Not yet. To date, there is no vaccine and no specific antiviral medicine to prevent or treat COVID-2019',\n",
       " 'No',\n",
       " 'Only wear a mask if you are ill with COVID-19 symptoms (especially coughing) or looking after someone who may have COVID-19',\n",
       " 'Remember, a mask should only be used by health workers, care takers, and individuals with respiratory symptoms, such as fever and cough',\n",
       " 'The “incubation period” means the time between catching the virus and beginning to have symptoms of the disease',\n",
       " 'Coronaviruses are a large family of viruses that are common in animals',\n",
       " '',\n",
       " 'It is not certain how long the virus that causes COVID-19 survives on surfaces, but it seems to behave like other coronaviruses',\n",
       " 'Yes',\n",
       " '',\n",
       " 'Currently, the source of SARS-CoV-2, the coronavirus (CoV) causing COVID-19 is unknown',\n",
       " 'The first human cases of COVID-19 were identified in Wuhan City, China in December 2019',\n",
       " 'There is currently no evidence to confirm or disprove that COVID-19 virus can be transmitted through coins or banknotes',\n",
       " 'When grocery shopping, keep at least 1-metre distance from others and avoid touching your eyes, mouth and nose',\n",
       " 'Fruits and vegetables are essential components of a healthy diet. Wash them the same way you would in any other circumstance',\n",
       " 'The virus that causes COVID-19 is mainly transmitted through droplets generated when an infected person coughs, sneezes, or speaks',\n",
       " 'A novel coronavirus is a new coronavirus that has not been previously identified',\n",
       " '',\n",
       " 'People in the U.S. may be worried or anxious about friends and relatives who are living in or visiting areas where COVID-19 is spreading',\n",
       " 'People can fight stigma by providing social support in situations where you notice this is occurring',\n",
       " 'CDC’s overall case numbers are validated through a confirmation process with jurisdictions',\n",
       " 'CDC’s COVID-19 case numbers include many publicly reported numbers, including information from state, local, territorial, international and external partners.',\n",
       " 'Delays in reporting can cause the number of COVID-19 cases reported on previous days to increase. (Sometimes this effect is described as “backfill',\n",
       " 'COVID-19 is caused by a coronavirus called SARS-CoV-2',\n",
       " '',\n",
       " 'The\\xa0number of cases of COVID-19\\xa0being reported in the United States is rising due to\\xa0increased laboratory testing\\xa0and reporting across the country',\n",
       " 'The virus that causes COVID-19 is\\xa0spreading from person-to-person. People are thought to be most contagious when they are symptomatic (the sickest)',\n",
       " '',\n",
       " 'Coronaviruses are generally thought to be spread from person to person through respiratory droplets',\n",
       " 'Based on information about this novel coronavirus thus far, it seems unlikely that COVID-19 can be transmitted through food – additional investigation is needed',\n",
       " 'It is not yet known whether weather and temperature affect the spread of COVID-19',\n",
       " 'Community spread means people have been infected with the virus in an area, including some who are not sure how or where they became infected.',\n",
       " 'Generally coronaviruses survive for shorter periods at higher temperatures and higher humidity than in cooler or dryer environments',\n",
       " 'At this time, CDC has no data to suggest that this new coronavirus or other similar coronaviruses are spread by mosquitoes or ticks',\n",
       " 'This is a rapidly evolving situation and the\\xa0risk assessment\\xa0may change daily',\n",
       " 'COVID-19 case counts for the United States are updated regularly online. See the\\xa0current U.S. case count of COVID-19.',\n",
       " 'Visit the\\xa0COVID-19 Prevention and Treatment\\xa0page to learn about how to protect yourself from respiratory illnesses, like COVID-19.',\n",
       " 'There is information for\\xa0people who have had close contact\\xa0with a person confirmed to have, or being evaluated for, COVID-19 available online.',\n",
       " '',\n",
       " 'There is still a lot that is unknown about COVID-19 and how it spreads. This coronaviruses is thought to be spread most often by respiratory droplets',\n",
       " 'In healthcare settings across the United States, donated blood is a lifesaving, essential part of caring for patients',\n",
       " '\\n\\nCurrently there is no evidence to suggest contact lens wearers are more at risk for acquiring COVID-19 than eyeglass wearers',\n",
       " '\\n\\nHydrogen peroxide-based systems\\xa0for cleaning, disinfecting, and storing contact lenses should be effective against the virus that causes COVID-19',\n",
       " 'Based on available evidence, children do not appear to be at higher risk for COVID-19 than adults',\n",
       " 'You can encourage your child to help stop the spread of COVID-19 by teaching them to do the same things everyone should do to stay healthy',\n",
       " 'No. The symptoms of COVID-19 are similar in children and adults. However, children with confirmed COVID-19 have generally presented with mild symptoms',\n",
       " 'CDC recommends that everyone 2 years and older wear a cloth face covering that covers their nose and mouth when they are out in the community',\n",
       " 'Outbreaks can be stressful for adults and children. Talk with your children about the outbreak, try to stay calm, and reassure them that they are safe',\n",
       " 'This is a new virus and we are still learning about it, but so far, there does not seem to be a lot of illness in children',\n",
       " '\\n\\nThe key to slowing the spread of COVID-19 is to practice social distancing',\n",
       " '\\n\\nStay in touch with your child’s school.\\n\\nMany schools are offering lessons online (virtual learning)',\n",
       " 'Check with your school on plans to continue meal services during the school dismissal',\n",
       " '\\n\\nWatch your child for any signs of illness',\n",
       " 'Older adults and people who have serious underlying medical conditions\\xa0are at highest risk of getting sick from COVID-19',\n",
       " '',\n",
       " 'Practice everyday preventive actions to help reduce your risk of getting sick and remind everyone in your home to do the same',\n",
       " 'Most people who get COVID-19 will be able to recover at home',\n",
       " 'Talk to the\\xa0school or facility\\xa0about their emergency operations plan',\n",
       " 'Plan for potential changes at your workplace. Talk to your employer about their emergency operations plan, including sick-leave policies and telework options',\n",
       " 'Handwashing is one of the best ways to protect yourself and your family from getting sick',\n",
       " '',\n",
       " '',\n",
       " 'During an outbreak, stay calm and put your preparedness plan to work. Follow the steps below:\\nProtect yourself and others.\\n\\nStay home if you are sick',\n",
       " 'Depending on the situation, public health officials may recommend community actions to reduce exposures to COVID-19, such as school dismissals',\n",
       " 'Follow the advice of your local health officials. Stay home if you can',\n",
       " 'CDC makes recommendations, shares information, and provides guidance to help slow down the spread of COVID-19 in the U.S',\n",
       " 'CDC cannot address the policies of any business or organization',\n",
       " 'Current symptoms reported for patients with COVID-19 have included mild to severe respiratory illness with fever1, cough, and difficulty breathing',\n",
       " 'Not everyone needs to be tested for COVID-19. For information about testing, see\\xa0Testing for COVID-19.',\n",
       " 'The process and locations for testing vary from place to place',\n",
       " 'Using the CDC-developed diagnostic test, a negative result means that the virus that causes COVID-19 was not found in the person’s sample',\n",
       " 'Many tests to diagnose COVID-19 have received an Emergency Use Authorization (EUA)external icon from the Food & Drug Administration (FDA)',\n",
       " 'Serology testing checks a sample of a person’s blood to look for antibodies to SARS-CoV-2, the virus that causes COVID-19',\n",
       " 'CDC and partners are investigating to determine if you can get sick with COVID-19 more than once. At this time, we are not sure if you can become re-infected',\n",
       " 'COVID-19 is a new disease and there is limited information regarding risk factors for severe disease',\n",
       " '',\n",
       " 'This list is based on:\\n\\nWhat we are learning from the outbreak in other countries and in the United States',\n",
       " '\\nCurrently, there is no evidence to show that taking ibuprofen\\xa0or naproxen can lead to a more severe infection of COVID-19',\n",
       " '',\n",
       " '',\n",
       " 'Severity typically means how much impact the illness or condition has on your body’s function',\n",
       " 'Most people with disabilities are not inherently at higher risk for becoming infected with or having severe illness from COVID-19',\n",
       " '',\n",
       " 'There is currently no known risk associated with being in the same room at a funeral or visitation service with the body of someone who died of COVID-19.',\n",
       " 'COVID-19 is a new disease and\\xa0we are still learning how it spreads.\\xa0The virus that causes COVID-19 is thought to mainly spread from close contact (i.e',\n",
       " 'A funeral or visitation service can be held for a person who has died of COVID-19',\n",
       " '',\n",
       " 'CDC does not require an autopsy before the remains of a person who died overseas are returned to the United States',\n",
       " 'CDC is working with other federal partners in a whole-of-government response',\n",
       " '',\n",
       " 'No. At this time, routine testing of animals for COVID-19 is not recommended.',\n",
       " '',\n",
       " 'You should restrict contact with pets and other animals while you are sick with COVID-19, just like you would around other people',\n",
       " 'We don’t know for sure which animals can be infected with the virus that causes COVID-19',\n",
       " 'The tiger infected with the virus that causes COVID-19 is the first case of its kind',\n",
       " 'Walking a dog is important for both animal and human health and well-being',\n",
       " '',\n",
       " 'Animals are only being tested in very rare circumstances',\n",
       " 'There is no reason to think that any animals, including shelter pets, in the United States, might be a source of COVID-19.',\n",
       " 'CDC does not have any evidence to suggest that imported animals or animal products pose a risk for spreading COVID-19 in the United States',\n",
       " 'Please refer to\\xa0CDC’s requirements\\xa0for bringing a dog to the United States',\n",
       " 'Imported animals will need to meet\\xa0CDC\\xa0and\\xa0USDAexternal iconexternal icon requirements for entering the United States',\n",
       " 'A novel coronavirus is a new coronavirus that has not been previously identified',\n",
       " 'Coronavirus disease 2019 (COVID-19) is a respiratory illness that can spread from person to person',\n",
       " 'The best way to prevent illness is to avoid being exposed to the virus',\n",
       " 'CDC recommends wearing cloth face coverings in public when other social distancing measures are difficult to maintain (e.g',\n",
       " 'People with COVID-19 should receive supportive care to help relieve symptoms. People with mild symptoms are able to recover at home',\n",
       " 'No. Always follow the instructions on household cleaners. Do not use disinfect sprays or wipes on your skin because it may cause skin and eye irritation',\n",
       " 'The best way to prevent the spread of infections and decrease the risk of getting sick is by washing your hands with plain soap and water, advises the CDC',\n",
       " 'Many retail stores and pharmacies sell hand sanitizers',\n",
       " 'Call your doctor if you experience a serious reaction to hand sanitizer',\n",
       " 'There are currently no FDA-approved vaccines or drug products for COVID-19',\n",
       " '',\n",
       " 'If you are experiencing issues with your supply chain, delivery of goods, or business continuity, please contact: CISA.CAT@cisa.dhs.gov.',\n",
       " '',\n",
       " 'At this time there is no vaccine to prevent coronavirus disease 2019 (COVID-19)',\n",
       " '',\n",
       " '',\n",
       " 'Blood donors must be healthy and feel well on the day of donation',\n",
       " 'At this time, the FDA does not recommend using laboratory tests to screen blood',\n",
       " 'If you are healthy and interested in donating blood, the FDA encourages you to contact a local donation center to make an appointment',\n",
       " '',\n",
       " '',\n",
       " 'COVID-19 convalescent plasma must only be collected from recovered individuals if they are eligible to donate blood',\n",
       " 'At this time, there are no FDA-approved drug products to treat COVID-19',\n",
       " 'No. Antibiotics do not work against viruses; they only work on bacterial infections',\n",
       " 'No. Miracle Mineral Solution does not cure COVID-19 and has not been approved by the FDA for any use',\n",
       " 'No. Hydroxychloroquine sulfate and some versions of chloroquine phosphate are FDA-approved to treat malaria',\n",
       " '',\n",
       " 'In the lab, these drugs have been shown to prevent the growth of the virus that causes COVID-19',\n",
       " 'No',\n",
       " 'No. While there are approved uses for ivermectin in people and animals, it is not approved for the prevention or treatment of COVID-19',\n",
       " 'We have established a cross-agency task force dedicated to closely monitoring for fraudulent COVID-19 products',\n",
       " '',\n",
       " 'Currently, there is no evidence to support transmission of COVID-19 associated with imported goods, including food and drugs for humans and pets',\n",
       " 'If you have additional questions, call FDA’s Division of Drug Information at (855) 543-3784 or email us at druginfo@fda.hhs.gov.',\n",
       " 'Yes, there are tests for COVID-19',\n",
       " '',\n",
       " 'At this time, the FDA has not authorized any COVID-19 test to be completely used and processed at home',\n",
       " 'The FDA is actively working with test developers and issues Emergency Use Authorizations (EUAs) frequently for EUA requests with sufficient supporting data.',\n",
       " 'There are currently two types of tests available for SARS-CoV-2, the virus that causes COVID-19',\n",
       " 'Antibody tests cannot be used alone to rule out COVID-19. However, they can serve an important role',\n",
       " 'No',\n",
       " 'The FDA has been working closely with PPE and ventilator manufacturers to understand their supply capabilities during this pandemic',\n",
       " '',\n",
       " '',\n",
       " '',\n",
       " '',\n",
       " '',\n",
       " '',\n",
       " 'There is no evidence to suggest that food produced in the United States or imported from countries affected by COVID-19 can transmit COVID-19.',\n",
       " 'Currently there is no evidence of food, food containers,or food packaging being associated with transmission of COVID-19',\n",
       " 'Currently there is no evidence of food or food packaging being associated with transmission of COVID-19',\n",
       " 'Currently there is no evidence of animal food or food packaging being associated with transmission of COVID-19',\n",
       " 'Currently, there is no evidence of food or food packaging being associated with transmission of COVID-19',\n",
       " 'CDC recommends that employees who have symptoms of acute respiratory illness stay home and not come to work until they are free of fever (100.4° F [37',\n",
       " 'CDC recommends routine cleaning of all frequently touched surfaces in the workplace, such as workstations, countertops, and doorknobs',\n",
       " 'There is currently no evidence that animals are a source of COVID-19 infection in the United States.',\n",
       " '',\n",
       " 'Routine testing of pets for COVID-19 is not recommended at this time',\n",
       " 'We currently don’t fully understand how COVID-19 affects different animal species',\n",
       " 'The tiger infected with the virus that causes COVID-19 is the first case of its kind',\n",
       " 'In the face of limited resources, animals are only being tested in very rare circumstances when it is necessary',\n",
       " '',\n",
       " 'No',\n",
       " 'Yes. Coronaviruses are a large family of viruses',\n",
       " 'There are no data to suggest that current or previous infection with another strain of coronavirus would make your pet more or less likely to get COVID-19.',\n",
       " '',\n",
       " '',\n",
       " 'There is no reason to think that any animals, including shelter or rescue pets, in the United States, might be a source of COVID-19.',\n",
       " 'The FDA has been and is continuing to closely monitor how the COVID-19 outbreak may impact the animal medical product supply chain',\n",
       " 'The virus can spread between people interacting in close proximity—for example, speaking, coughing, or sneezing—even if those people are not exhibiting symptoms',\n",
       " 'There are no studies supporting the effectiveness of homemade hand sanitizer blend in killing the new coronavirus on people’s hands',\n",
       " 'There is no evidence at present that items imported from affected areas and shipped or mailed over the course of days or weeks are spreading COVID-19',\n",
       " 'According to theFood and Drug Administration (FDA),there have not been any cases of COVID-19 known to be caused from eating food or handling food packaging.',\n",
       " '',\n",
       " 'As the new coronavirus is spreading, be cautious about all possible exposures, including at the gym or fitness center',\n",
       " 'At this time, social and physical distancing are important to follow, so overall, travel is discouraged',\n",
       " '',\n",
       " 'At present, there is no vaccine for this new coronavirus as there is for many forms of the flu',\n",
       " 'Right now, it appears that COVID-19, the disease caused by the new coronavirus, causes more cases of severe disease and more deaths than the seasonal flu',\n",
       " 'Several countries currently affected by the new coronavirus outbreak are experiencing summer weather',\n",
       " '',\n",
       " 'There are many different kinds of coronavirus. Some only affect animals. Some have been circulating among human beings for years, causing mild colds',\n",
       " '',\n",
       " \"'I don't think you need to,' CNN Chief Medical Correspondent Dr. Sanjay Gupta said\",\n",
       " \"It's easy for asymptomatic people to spread coronavirus, said Dr. Anne Rimoin, an epidemiology professor at UCLA's School of Public Health\",\n",
       " \"'There is no evidence that COVID-19 can be spread to humans through the use of pools and hot tubs,' the CDC says\",\n",
       " '',\n",
       " \"Not necessarily. Antibodies are a body's response to bacteria or viruses\",\n",
       " 'In some cases, a vaccine might give stronger protection than antibodies produced after being infected, epidemiologist Dr. Larry Brilliant said',\n",
       " \"'May 1st, I think, is completely unrealistic,' said Dr. Ashish Jha, director of the Harvard Global Health Institute\",\n",
       " \"'With this respiratory virus, (as) with other coronaviruses, no,' said Dr\",\n",
       " \"Please don't. The CDC advises using hand sanitizer that contains at least 60% alcohol.\\nVodka typically contains between 35% and 46% percent alcohol\",\n",
       " \"This is not a good time to be vaping or smoking anything, including weed. \\n'Vaping affects your lungs at every level\",\n",
       " \"There's no evidence that coronavirus can be transmitted through food, the CDC says\",\n",
       " 'Yes, taking a break from contacts can help',\n",
       " \"Coronavirus isn't just infecting young people. It's killing young, healthy people as well\",\n",
       " \"No. That's just a hoax going around the internet\",\n",
       " \"Ideally, you should limit your children's potential exposures to coronavirus and work out the safest plan possible with your ex\",\n",
       " 'Up to three days, depending on the surface',\n",
       " \"It's too early to know for sure. But other coronaviruses, like ones that cause the common cold, might give us clues\",\n",
       " \"Some cases of coronavirus do lead to pneumonia. But the pneumonia vaccine won't help\",\n",
       " 'The CDC recently changed its guidance on wearing face masks as more studies about asymptomatic spread pile up',\n",
       " \"Probably for several months. But you might have to do it 'over and over again,' since the outbreak could come in waves\",\n",
       " \"Many health care workers don't actually have enough protective gear to handle the growing influx of coronavirus patients\",\n",
       " '',\n",
       " \"Yes. Testing positive for either the flu or coronavirus doesn't exempt you from having the other at the same time\",\n",
       " '',\n",
       " \"'We really should be,' said Dr. Anthony Fauci, a member of the White House Coronavirus Task Force\",\n",
       " '',\n",
       " 'No',\n",
       " 'The novel coronavirus is dangerous for several reasons, even if the number of deaths might not have matched that of the flu',\n",
       " \"Most coronavirus patients don't need to be hospitalized. 'The vast majority of people ' about 80% ' will do well without any specific intervention,' said Dr\",\n",
       " \"'Generally coronaviruses survive for shorter periods of time at higher temperatures and higher humidity than in cooler or dryer environments\",\n",
       " \"No, the water supply is not at risk.\\n'The COVID-19 virus has not been detected in drinking water,' the CDC says\",\n",
       " '',\n",
       " 'Yes. \\nResearch indicates a person with the flu infects about 1.28 other people, on average, CNN Chief Medical Correspondent Dr. Sanjay Gupta said',\n",
       " \"You can't, said Dr. James Phillips, chief of disaster and operational medicine at George Washington University Hospital\",\n",
       " 'With the shortage of coronavirus testing nationwide, it may be difficult to know whether your loved one has coronavirus or another illness',\n",
       " 'Fever, dry cough and difficulty breathing are hallmarks of coronavirus. \\nSymptoms may appear anywhere from 2 days to 2 weeks after exposure, the CDC says',\n",
       " 'It primarily spreads between people through respiratory droplets, like through coughs, sneezes, spittle',\n",
       " '',\n",
       " 'It varies. Decisions about when a person can be released from isolation are made on a case-by-case basis',\n",
       " \"It's virtually impossible to say for sure that you haven't been exposed to the virus. Some carriers of coronavirus don't have any symptoms\",\n",
       " \"The CDC says 'older adults' and people with serious chronic medical conditions 'are at higher risk of getting very sick from this illness\",\n",
       " '',\n",
       " \"Long story short: There's not enough data yet, considering this coronavirus just emerged in humans a few months ago\",\n",
       " \"Don't visit family members with suspected illness ' keep up with them virtually\",\n",
       " \"'I would suggest wiping down external surfaces of canned or wrapped foods,' said Dr\",\n",
       " 'Yes, you can make both at home',\n",
       " \"Yes, because a family member may suddenly have to quarantine. Just don't hoard more than you need because others need supplies, too\",\n",
       " \"If you rely on public transportation, use caution. If you're sick or live in an area where an outbreak has been reported, avoid it\",\n",
       " \"Both rideshare companies said they're actively trying to protect customers and drivers from coronavirus\",\n",
       " \"States have received guidance from the CDC on how to keep voting locations clean. It's up to you whether you feel comfortable going\",\n",
       " \"If you can, you should stay home from work when you're sick, whether or not you have coronavirus\",\n",
       " '',\n",
       " \"If you work in a city or state that requires sick leave and you use it, you can'\\x98t be terminated or disciplined\",\n",
       " 'Yes, managers can',\n",
       " 'Many countries have enacted temporary restrictions on their entry policies',\n",
       " \"It's not the cabin air you need to worry about. It's keeping your hands clean. \\nAlways be mindful of where your hands have been, travel medicine specialist Dr\",\n",
       " \"Most viruses don't spread easily on airplanes because of how the air circulates and is filtered, the CDC says\",\n",
       " \"'US citizens, particularly travelers with underlying health conditions, should not travel by cruise ship,' the US Department of State says\",\n",
       " \"People who are immunocompromised 'are at higher risk from this illness, as well as other illnesses like the flu\",\n",
       " '',\n",
       " \"There's currently no cure for the novel coronavirus. And while research is underway, it could be more than a year before a vaccine becomes publicly available.\",\n",
       " \"An antiviral drug must be able to target the specific part of a virus's life cycle that is necessary for it to reproduce, according to Harvard Medical School\",\n",
       " \"Stay home. Call your doctor to talk about your symptoms and let them know you're coming for an appointment so they can prepare for your visit, the CDC says\",\n",
       " 'Stay at least 6 feet away from others, and wash your hands often.\\nThe best way to kill germs is by scrubbing your hands with soap and water for 20 seconds',\n",
       " 'No. Those products work on surfaces but can be dangerous to your body',\n",
       " \"There's no evidence from the outbreak that eating garlic, sipping water every 15 minutes or taking vitamin C will protect people from the new coronavirus\",\n",
       " 'Absolutely. The vast majority of people with coronavirus survive',\n",
       " \"'It takes anything up to six weeks to recover from this disease,' said Dr. Michael Ryan of the World Health Organization\",\n",
       " \"Some people with coronavirus have mild or no symptoms. And in some cases, symptoms don't appear until up to 14 days after infection\",\n",
       " \"Experts say it's due to cuts in federal funding for public health and problems with early testing\",\n",
       " 'No, antibiotics are not effective against coronavirus because the disease is a viral infection, not a bacterial infection',\n",
       " 'No',\n",
       " \"Hand dryers can't kill the virus, according to WHO\",\n",
       " \"There's no evidence from the outbreak that eating garlic, sipping water every 15 minutes or taking vitamin C will protect people from the new coronavirus\",\n",
       " \"No. 'The new coronavirus cannot be transmitted through goods manufactured in China or any country reporting Covid-19 cases,' the World Health Organization says\",\n",
       " '',\n",
       " '']"
      ]
     },
     "execution_count": 21,
     "metadata": {},
     "output_type": "execute_result"
    }
   ],
   "source": [
    "[shorten_sentence(s) for s in answers]"
   ]
  },
  {
   "cell_type": "code",
   "execution_count": 51,
   "metadata": {},
   "outputs": [
    {
     "data": {
      "text/plain": [
       "130"
      ]
     },
     "execution_count": 51,
     "metadata": {},
     "output_type": "execute_result"
    }
   ],
   "source": [
    "a = \"The following measures ARE NOT effective against COVID-2019 and can be harmful:Smoking, wearing multiple masks, taking antibiotics\"\n",
    "\n",
    "len(a)    \n",
    "    "
   ]
  },
  {
   "cell_type": "code",
   "execution_count": 52,
   "metadata": {},
   "outputs": [
    {
     "name": "stdout",
     "output_type": "stream",
     "text": [
      "Why is the disease being called coronavirus disease 2019, COVID-19? \n",
      " On February 11, 2020 the World Health Organization announced an official name for the disease that is causing the 2019 novel coronavirus outbreak, first identified in Wuhan China. The new name of this disease is coronavirus disease 2019, abbreviated as COVID-19. In COVID-19, ‘CO’ stands for ‘corona,’ ‘VI’ for ‘virus,’ and ‘D’ for disease. Formerly, this disease was referred to as “2019 novel coronavirus” or “2019-nCoV”.\n",
      "There are many types of human coronaviruses including some that commonly cause mild upper-respiratory tract illnesses. COVID-19 is a new disease, caused be a novel (or new) coronavirus that has not previously been seen in humans. The name of this disease was selected following the World Health Organization (WHO) best practiceexternal iconexternal icon for naming of new human infectious diseases.\n"
     ]
    },
    {
     "data": {
      "text/plain": [
       "822"
      ]
     },
     "execution_count": 52,
     "metadata": {},
     "output_type": "execute_result"
    }
   ],
   "source": [
    "n = 27\n",
    "print(questions[n], '\\n', answers[n])\n",
    "\n",
    "len(answers[n])"
   ]
  },
  {
   "cell_type": "code",
   "execution_count": 33,
   "metadata": {},
   "outputs": [
    {
     "name": "stdout",
     "output_type": "stream",
     "text": [
      "4\n",
      "Protection measures for everyoneStay aware of the latest information on the COVID-19 outbreak, available on the WHO website and through your national and local public health authority. Many countries around the world have seen cases of COVID-19 and several have seen outbreaks. Authorities in China and some other countries have succeeded in slowing or stopping their outbreaks. However, the situation is unpredictable so check regularly for the latest news.You can reduce your chances of being infected or spreading COVID-19 by taking some simple precautions:Regularly and thoroughly clean your hands with an alcohol-based hand rub or wash them with soap and water.Why? Washing your hands with soap and water or using alcohol-based hand rub kills viruses that may be on your hands.Maintain at least 1 metre (3 feet) distance between yourself and anyone who is coughing or sneezing.Why? When someone coughs or sneezes they spray small liquid droplets from their nose or mouth which may contain virus. If you are too close, you can breathe in the droplets, including the COVID-19 virus if the person coughing has the disease.Avoid touching eyes, nose and mouth.Why? Hands touch many surfaces and can pick up viruses. Once contaminated, hands can transfer the virus to your eyes, nose or mouth. From there, the virus can enter your body and can make you sick.Make sure you, and the people around you, follow good respiratory hygiene. This means covering your mouth and nose with your bent elbow or tissue when you cough or sneeze. Then dispose of the used tissue immediately.Why? Droplets spread virus. By following good respiratory hygiene you protect the people around you from viruses such as cold, flu and COVID-19.Stay home if you feel unwell. If you have a fever, cough and difficulty breathing, seek medical attention and call in advance. Follow the directions of your local health authority.Why? National and local authorities will have the most up to date information on the situation in your area. Calling in advance will allow your health care provider to quickly direct you to the right health facility. This will also protect you and help prevent spread of viruses and other infections.Keep up to date on the latest COVID-19 hotspots (cities or local areas where COVID-19 is spreading widely). If possible, avoid traveling to places – especially if you are an older person or have diabetes, heart or lung disease.Why? You have a higher chance of catching COVID-19 in one of these areas. Protection measures for persons who are in or have recently visited (past 14 days) areas where COVID-19 is spreadingFollow the guidance outlined above (Protection measures for everyone) Self-isolate by staying at home if you begin to feel unwell, even with mild symptoms such as headache, low grade fever (37.3 C or above) and slight runny nose, until you recover. If it is essential for you to have someone bring you supplies or to go out, e.g. to buy food, then wear a mask to avoid infecting other people.Why? Avoiding contact with others and visits to medical facilities will allow these facilities to operate more effectively and help protect you and others from possible COVID-19 and other viruses.If you develop fever, cough and difficulty breathing, seek medical advice promptly as this may be due to a respiratory infection or other serious condition. Call in advance and tell your provider of any recent travel or contact with travelers.Why? Calling in advance will allow your health care provider to quickly direct you to the right health facility. This will also help to prevent possible spread of COVID-19 and other viruses.\n",
      "7\n",
      "While we are still learning about how COVID-2019 affects people, older persons and persons with pre-existing medical conditions (such as high blood pressure, heart disease, lung disease, cancer or diabetes) appear to develop serious illness more often than others.\n",
      "9\n",
      "While some western, traditional or home remedies may provide comfort and alleviate symptoms of COVID-19, there is no evidence that current medicine can prevent or cure the disease. WHO does not recommend self-medication with any medicines, including antibiotics, as a prevention or cure for COVID-19. However, there are several ongoing clinical trials that include both western and traditional medicines. WHO will continue to provide updated information as soon as clinical findings are available.\n",
      "16\n",
      "We are aware of instances of animals and pets of COVID-19 patients being infected with the disease;As the intergovernmental body responsible for improving animal health worldwide, the World Organisation for Animal Health (OIE) has been developing technical guidance on specialised topics related to animal health, dedicated to veterinary services and technical experts (including on testing and quarantine);There is a possibility for some animals to become infected through close contact with infected humans. Further evidence is needed to understand if animals and pets can spread the disease;Based on current evidence, human to human transmission remains the main driver;It is still too early to say whether cats could be the intermediate host in the transmission of the COVID-19.\n",
      "19\n",
      "The following measures ARE NOT effective against COVID-2019 and can be harmful:SmokingWearing multiple masksTaking antibiotics (See question 10 \"Are there any medicines of therapies that can prevent or cure COVID-19?\")In any case, if you have fever, cough and difficulty breathing seek medical care early to reduce the risk of developing a more severe infection and be sure to share your recent travel history with your health care provider.\n",
      "27\n",
      "On February 11, 2020 the World Health Organization announced an official name for the disease that is causing the 2019 novel coronavirus outbreak, first identified in Wuhan China. The new name of this disease is coronavirus disease 2019, abbreviated as COVID-19. In COVID-19, ‘CO’ stands for ‘corona,’ ‘VI’ for ‘virus,’ and ‘D’ for disease. Formerly, this disease was referred to as “2019 novel coronavirus” or “2019-nCoV”.\n",
      "There are many types of human coronaviruses including some that commonly cause mild upper-respiratory tract illnesses. COVID-19 is a new disease, caused be a novel (or new) coronavirus that has not previously been seen in humans. The name of this disease was selected following the World Health Organization (WHO) best practiceexternal iconexternal icon for naming of new human infectious diseases.\n",
      "34\n",
      "The virus that causes COVID-19 is thought to spread mainly from person to person, mainly through respiratory droplets produced when an infected person coughs or sneezes. These droplets can land in the mouths or noses of people who are nearby or possibly be inhaled into the lungs. Spread is more likely when people are in close contact with one another (within about 6 feet).\n",
      "COVID-19 seems to be spreading easily and sustainably in the community (“community spread”) in many affected geographic areas. Community spread means people have been infected with the virus in an area, including some who are not sure how or where they became infected.\n",
      "Learn what is known about the spread of newly emerged coronaviruses.\n",
      "37\n",
      "Quarantine means separating a person or group of people who have been exposed to a contagious disease but have not developed illness (symptoms) from others who have not been exposed, in order to prevent the possible spread of that disease. Quarantine is usually established for the incubation period of the communicable disease, which is the span of time during which people have developed illness after exposure. For COVID-19, the period of quarantine is 14 days from the last date of exposure because the incubation period for this virus is 2 to 14 days. Someone who has been released from COVID-19 quarantine is not considered a risk for spreading the virus to others because they have not developed illness during the incubation period.\n",
      "48\n",
      "In light of new data about how COVID-19 spreads, along with evidence of widespread COVID-19 illness in communities across the country, CDC recommends that people wear a cloth face covering to cover their nose and mouth in the community setting. This is an additional public health measure people should take to reduce the spread of COVID-19 in addition to (not instead of) social distancing, frequent hand cleaning and other everyday preventive actions. A cloth face covering is not intended to protect the wearer, but may prevent the spread of virus from the wearer to others. This would be especially important in the event that someone is infected but does not have symptoms. A cloth face covering should be worn whenever people must go into public settings (grocery stores, for example). Medical masks and N-95 respirators are reserved for healthcare workers and other first responders, as recommended by current CDC guidance.\n",
      "64\n",
      "Create a household plan of action to help protect your health and the health of those you care about in the event of an outbreak of COVID-19 in your community:\n",
      "\n",
      "Talk with the people who need to be included in your plan, and discuss what to do if a COVID-19 outbreak occurs in your community.\n",
      "Plan ways to care for those who might be at greater risk for serious complications, particularly older adults and those with severe chronic medical conditions like heart, lung or kidney disease.\n",
      "\n",
      "Make sure they have access to several weeks of medications and supplies in case you need to stay home for prolonged periods of time.\n",
      "\n",
      "\n",
      "Get to know your neighbors and find out if your neighborhood has a website or social media page to stay connected.\n",
      "Create a list of local organizations that you and your household can contact in the event you need access to information, healthcare services, support, and resources.\n",
      "Create an emergency contact list of family, friends, neighbors, carpool drivers, health care providers, teachers, employers, the local public health department, and other community resources.\n",
      "\n",
      "\n",
      "70\n",
      "Clean and disinfect frequently touched surfaces such as tables, doorknobs, light switches, countertops, handles, desks, phones, keyboards, toilets, faucets, and sinks.  If surfaces are dirty, clean them using detergent or soap and water prior to disinfection. To disinfect, most common EPA-registered household disinfectants will work. See CDC’s recommendations for household cleaning and disinfection.\n",
      "71\n",
      "\n",
      "\n",
      "\n",
      "CDC recommends handwashing with soap and water for at least 20 seconds or, using alcohol-based hand sanitizer with at least 60% alcohol when soap and water are not available. These actions are part of everyday preventive actions individuals can take to slow the spread of respiratory diseases like COVID-19.\n",
      "\n",
      "When washing hands, you can use plain soap or antibacterial soap. Plain soap is as effective as antibacterial soap at removing germs.\n",
      "If soap and water are not readily available, you can use an FDA-approved alcohol-based hand sanitizer that contains at least 60% alcohol. You can tell if the sanitizer contains at least 60% alcohol by looking at the product label.\n",
      "\n",
      "CDC does not encourage the production and use of homemade hand sanitizer products because of concerns over the correct use of the ingredientsexternal iconexternal icon and the need to work under sterile conditions to make the product. Local industries that are looking into producing hand sanitizer to fill in for commercial shortages can refer to the World Health Organization guidancepdf iconexternal iconpdf iconexternal icon. Organizations should revert to the use of commercially produced, FDA-approved product once such supplies again become available.\n",
      "\n",
      "To be effective against killing some types of germs, hand sanitizers need to have a strength of at least 60% alcohol and be used when hands are not visibly dirty or greasy.\n",
      "Do not rely on “Do It Yourself” or “DIY” recipes based solely on essential oils or formulated without correct compounding practices.\n",
      "Do not use hand sanitizer to disinfect frequently touched surfaces and objects. See CDC’s information for cleaning and sanitizing your home.\n",
      "\n",
      "See FAQs about hand hygiene for healthcare personnel responding to COVID-2019.\n",
      "\n",
      "\n",
      "\n",
      "85\n",
      "If you are at higher risk of getting very sick from COVID-19, you should:\n",
      "\n",
      "Stock up on supplies\n",
      "Take everyday precautions to keep space between yourself and others\n",
      "When you go out in public, keep away from others who are sick\n",
      "Limit close contact and wash your hands often\n",
      "Avoid crowds, cruise travel, and non-essential travel\n",
      "\n",
      "If there is an outbreak in your community, stay home as much as possible. Watch for symptoms and emergency signs. If you get sick, stay home and call your doctor. More information on how to prepare, what to do if you get sick, and how communities and caregivers can support those at higher risk is available on People at Risk for Serious Illness from COVID-19.\n",
      "88\n",
      "Based on available information, adults aged 65 years and older and people of any age with underlying medical conditions included on this list are at higher risk for severe illness and poorer outcomes from COVID-19. CDC is collecting and analyzing data regularly and will update the list when we learn more. People with underlying medical conditions not on the list might also be at higher risk and should consult with their healthcare provider if they are concerned.\n",
      "We encourage all people, regardless of risk, to:\n",
      "\n",
      "Take steps to protect yourself and others.\n",
      "Call your healthcare provider if you are sick with a fever, cough, or shortness of breath.\n",
      "Follow CDC travel guidelines and the recommendations of your state and local health officials.\n",
      "\n",
      "\n",
      "89\n",
      "Generally, well-controlled means that your condition is stable, not life-threatening, and laboratory assessments and other findings are as similar as possible to those without the health condition. You should talk with your healthcare provider if you have a question about your health or how your health condition is being managed.\n",
      "92\n",
      "For recommendations and guidance on persons under investigation; infection control, including personal protective equipment guidance; home care and isolation; and case investigation, see Information for Healthcare Professionals. For information on specimen collection and shipment, see Information for Laboratories. For information for public health professional on COVID-19, see Information for Public Health Professionals.\n",
      "96\n",
      "When a US citizen dies outside the United States, the deceased person’s next of kin or legal representative should notify US consular officials at the Department of State. Consular personnel are available 24 hours a day, 7 days a week, to provide assistance to US citizens for overseas emergencies. If a family member, domestic partner, or legal representative is in a different country from the deceased person, he or she should call the Department of State’s Office of Overseas Citizens Services in Washington, DC, from 8 am to 5 pm Eastern time, Monday through Friday, at 888-407-4747 (toll-free) or 202-501-4444. For emergency assistance after working hours or on weekends and holidays, call the Department of State switchboard at 202-647-4000 and ask to speak with the Overseas Citizens Services duty officer. In addition, the US embassyexternal iconexternal iconexternal icon closest to or in the country where the US citizen died can provide assistance.\n",
      "99\n",
      "At this time, there is no evidence that companion animals, including pets, can spread COVID-19 to people or that they might be a source of infection in the United States. To date, CDC has not received any reports of pets becoming sick with COVID-19 in the United States.\n",
      "Pets have other types of coronaviruses that can make them sick, like canine and feline coronaviruses. These other coronaviruses cannot infect people and are not related to the current COVID-19 outbreak.\n",
      "However, since animals can spread other diseases to people, it’s always a good idea to practice healthy habits around pets and other animals, such as washing your hands and maintaining good hygiene. For more information on the many benefits of pet ownership, as well as staying safe and healthy around animals including pets, livestock, and wildlife, visit CDC’s Healthy Pets, Healthy People website.\n",
      "101\n",
      "Although we know certain bacteria and fungi can be carried on fur and hair, there is no evidence that viruses, including the virus that causes COVID-19, can spread to people from the skin, fur, or hair of pets.\n",
      "However, because animals can sometimes carry other germs that can make people sick, it’s always a good idea to practice healthy habits around pets and other animals, including washing hands before and after interacting with them.\n",
      "106\n",
      "There is a very small number of animals around the world reported to be infected with the virus that causes COVID-19 after having contact with a person with a COVID-19 infection. Talk to your veterinarian about any health concerns you have about your pets.\n",
      "If your pet gets sick after contact with a person with COVID-19, do not take your pet to the veterinary clinic yourself. Call your veterinarian and let them know the pet was around a person with COVID-19. Some veterinarians may offer telemedicine consultations or other alternate plans for seeing sick pets. Your veterinarian can evaluate your pet and determine the next steps for your pet’s treatment and care.\n",
      "122\n",
      "Critical infrastructure industries, including many FDA-regulated industries such as food, drugs, and medical equipment, have a special responsibility in these times to continue operations. On March 19, 2020, the Department of Homeland Security (DHS) Cybersecurity & Infrastructure Agency (CISA) issued guidance on defining essential workers. This guidance offers an initial baseline for governments and industry to use when identifying key groups of employees during COVID-19 response. This guidance is not binding and serves as a starting point for local and state governments. View more frequently asked questions from CISA.\n",
      "124\n",
      "Biological products include a wide range of products such as vaccines, blood and blood components, allergenics, somatic cells, gene therapy, tissues, and recombinant therapeutic proteins. Biologics can be composed of sugars, proteins, or nucleic acids or complex combinations of these substances, or may be living entities such as cells and tissues.\n",
      "126\n",
      "In general, respiratory viruses are not known to be transmitted by blood transfusion, and there have been no reported cases of transfusion-transmitted coronavirus.\n",
      "127\n",
      "In general, respiratory viruses are not known to be transmitted by blood transfusion, and there have been no reported cases of transfusion-transmitted coronavirus.\n",
      "131\n",
      "Respiratory viruses, in general, are not known to be transmitted by implantation, transplantation, infusion, or transfer of human cells, tissues, or cellular or tissue-based products (HCT/Ps). The potential for transmission of COVID-19 by HCT/Ps is unknown at this time. There have been no reported cases of transmission of COVID-19 via HCT/Ps.\n",
      "Routine screening measures are already in place for evaluating clinical evidence of infection in HCT/P donors. Read more…\n",
      "132\n",
      "Convalescent plasma is the liquid part of blood that is collected from patients who have recovered from the novel coronavirus disease, COVID-19, caused by the virus SARS-CoV-2. COVID-19 patients develop antibodies in the blood against the virus. Antibodies are proteins that might help fight the infection. Convalescent plasma is being investigated for the treatment of COVID-19 because there is no approved treatment for this disease and there is some information that suggests it might help some patients recover from COVID-19. Further investigation is still necessary to determine if convalescent plasma might shorten the duration of illness, reduce morbidity, or prevent death associated with COVID-19.\n",
      "138\n",
      "As mentioned above, chloroquine phosphate is only approved for the treatment of malaria, and hydroxychloroquine sulfate is only approved for the treatment of malaria, lupus, and rheumatoid arthritis. Once FDA has approved a drug, healthcare providers generally may prescribe or administer the drug for an unapproved use, including in clinical settings not described in the approved labeling. This decision will be based on their assessment of the potential benefits versus the risks for their patient, recognizing that FDA has not assessed the safety or effectiveness of such use.\n",
      "143\n",
      "The FDA has been closely monitoring the supply chain with the expectation that the COVID-19 outbreak would likely impact the medical product supply chain, including potential disruptions to supply or shortages of critical medical products in the U.S.\n",
      "We have been reaching out to manufacturers as part of our approach to identifying potential disruptions or shortages. We will use all available tools to react swiftly and mitigate the impact to U.S. patients and health care professionals when a potential disruption or shortage is identified.\n",
      "Find real-time information about drug shortages.\n",
      "Learn more in our drug shortages frequently asked questions.\n",
      "147\n",
      "To be tested for COVID-19, a sample is typically collected from your nose and/or throat with a special swab at a designated collection location staffed by healthcare professionals. Currently, a healthcare professional swabbing the back of the nasal cavity through the nostril is the preferred choice. Alternatively, the healthcare professionalmay swab the back of your throat, or for patients with symptoms of COVID-19,the inside of the front of the nose. Depending on, among other things, the type of swab used, a healthcare professional may collect the sample, or you may be able to collect the sample yourself at the collection site under the supervision of healthcare personnel. Testing of the sample is performed in a laboratory on the prescription or order of a health care professional.\n",
      "154\n",
      "Personal protective equipment (PPE) includes protective clothing, gowns, gloves, face shields, goggles, face masks, and respirators or other equipment designed to protect the wearer from injury or the spread of infection or illness. While it is possible to use 3D printing to make certain PPE, there are technical challenges. 3D-printed PPE may provide a physical barrier, but 3D-printed PPE are unlikely to provide the same fluid barrier and air filtration protection as FDA-cleared surgical masks and N95 respirators. The CDC has recommendations for how to optimize the supply of face masks. Find more information in the FDA guidance.\n",
      "155\n",
      "DIY ventilator makers may request that their product be added to the Emergency Use Authorization (EUA) that FDA issued on March 24, 2020, to legally market the product in the U.S. Instructions on how to do so, and the criteria for ventilator safety, performance and labeling, may be found in the Letter of Authorization and Appendix A for the EUA related to ventilators, anesthesia gas machines modified for use as ventilators, positive pressure breathing devices modified for use as ventilators, ventilator tubing connectors, and ventilator accessories.\n",
      "156\n",
      "Please contact the FDA’s Center for Devices and Radiological Health (CDRH)’s Division of Industry and Consumer Education (DICE) for general questions and information.\n",
      "If you need additional information completing the diagnostic EUA template or wish to consider use of an alternative specimen type, please contact the Division of Microbiology Devices at (301) 348-1778 or email CDRH-EUA-Templates@fda.hhs.gov.\n",
      "If you have questions about the EUA for personal respiratory protective devices, including N95 respirators, please email CDRH-NonDiagnosticEUA-Templates@fda.hhs.gov.\n",
      "157\n",
      "There are no nationwide shortages of food, although in some cases the inventory of certain foods at your grocery store might be temporarily low before stores can restock. Food production and manufacturing are widely dispersed throughout the U.S. and there are currently no widespread disruptions reported in the supply chain.\n",
      "FDA is closely monitoring the food supply chain for any shortages in collaboration with industry and our federal and state partners. We are in regular contact with food manufacturers and grocery stores.\n",
      "158\n",
      "There are no nationwide shortages of animal food, although in some cases the inventory of certain foods at your grocery store might be temporarily low before stores can restock. Animal food production and manufacturing are widely dispersed throughout the United States and no widespread disruptions have been reported in the supply chain.\n",
      "159\n",
      "There are steps you can take to help protect yourself, grocery store workers and other shoppers, such as wearing a face covering, practicing social distancing, and using wipes on the handles of the shopping cart or basket. Read more tips in Shopping for Food During the COVID-19 Pandemic - Information for Consumers.\n",
      "168\n",
      "Certain private, state, and university veterinary diagnostic laboratories have developed diagnostic tests for SARS-CoV-2, the virus that causes COVID-19, for use in dogs and cats. The decision to test pets should be made collaboratively between local, state, or federal public and animal health officials.\n",
      "Although FDA approval is not required prior to such tests being made commercially available for use in animals, the FDA is aware of at least two private diagnostic laboratories that have developed COVID-19 tests for pets. While FDA has not formally evaluated these tests, the agency has been in contact with these laboratories to gather information about their development and validation.\n",
      "173\n",
      "Although we know certain bacteria and fungi can be carried on fur and hair, there is no evidence that viruses, including the virus that causes COVID-19, can spread to people from the skin, fur, or hair of pets.\n",
      "However, because animals can sometimes carry other germs that can make people sick, it’s always a good idea to practice healthy habits around pets and other animals, including washing hands before and after interacting with them and especially after cleaning up their waste.\n",
      "177\n",
      "Species-specific coronavirus vaccines are unlikely to work against this type of coronavirus because it is a new virus that is different from the species-specific strains of coronavirus targeted by the vaccine.\n",
      "178\n",
      "While you should not avoid necessary visits to your veterinarian due to the COVID-19 outbreak, you should exercise reasonable caution just like you would if you were going to any other public place. If you are concerned about your own health or that of your pet when going to the veterinarian, contact their office in advance to discuss any recommended precautions.\n",
      "185\n",
      "It’s best not to make unnecessary trips, but if you need to go to a grocery store, it’s important to maintain social and physical distancing as you shop, and to clean your hands often while shopping and as soon as you get home.\n",
      "188\n",
      "There is no evidence that, under natural conditions, domestic animals including dogs, cats and livestock, can become sick with and spread the coronavirus that causes COVID-19.\n",
      "192\n",
      "Corona means “crown,” and coronaviruses have a “crown” of protruding points on their surface that give them a characteristic appearance when seen under a microscope. Coronaviruses are a whole family of viruses; there are many.\n",
      "194\n",
      "Doctors say it's not realistic to test all 328 million people in the US, especially since many states are still struggling to get enough tests or testing supplies.\n",
      "So in order for the economy to reopen and stay open, the US will need to triple its number of tests performed every day ' from 150,000 tests a day to at least 500,000, three Harvard researchers found.\n",
      "And the proportion of test results that come back positive needs to be much lower. About 20% of US test results have been positive, which is 'clearly way too high,' said Dr. Thomas Tsai, one of the Harvard researchers. \n",
      "The World Health Organization said an adequate range of positive test results would be 3% to 12%. Germany and South Korea have already met that goal, Tsai said.\n",
      "198\n",
      "'Viruses can live on surfaces and objects ' including on money ' although your chance of actually getting COVID-19 from cash is probably very low,' emergency room physician Dr. Leana Wen said.\n",
      "The new coronavirus can live for up to 72 hours on stainless steel and plastic, up to 24 hours after landing on cardboard, and up to four hours after landing on copper, according to a study funded by the US National Institutes of Health. \n",
      "So how do you protect yourself? Use contactless methods of payment whenever possible, Wen said.\n",
      "If you can't use a contactless form of payment, credit cards and debit cards are much easier to clean and disinfect than cash. But remember that anyone who touches your credit card can also leave germs on it.\n",
      "If you must use cash, 'wash your hands well with soap and water' afterward, Wen said. And since this is a respiratory virus, make sure you avoid touching your face.\n",
      "216\n",
      "'There is a delay because the way it goes, you have people who get exposed; they get infected; the number of new infections, hospitalizations, critical care and deaths (follow),' said Dr. Anthony Fauci, director of the National Institute of Allergy and Infectious Diseases. \n",
      "'So even when you suppress or stabilize the number of new infections, it's still going to take a while before you see a decrease in hospitalizations, a decrease in intensive care, and a decrease in deaths. And in fact, deaths are the last thing that lag. So you could be doing well (with mitigation measures) and still see the deaths go up.'\n",
      "218\n",
      "'There have been no reports of pets or livestock becoming ill with COVID-19 in the United States, and only four reported cases in the world of dogs and cats testing positive for the virus,' the American Veterinary Medical Association said April 5.\n",
      "'At this point in time, there is no evidence that domestic animals, including pets and livestock, can spread COVID-19 to people.'\n",
      "That statement came after the Bronx Zoo said a tiger was infected by a zoo employee who was 'asymptomatically infected with the virus.' The zoo had been closed to the public since March 16.\n",
      "The AVMA said 'out of an abundance of caution, and until more is known about this virus, you should restrict contact with pets and other animals while you are sick with COVID-19.'\n",
      "'If you have a service animal or you must care for your animals, including pets, wear a cloth facemask; don't share food, kiss, or hug them; and wash your hands before and after any contact with them,' the veterinary association said.\n",
      "'If you are not ill with COVID-19, you can interact with your pet as you normally would, including walking, feeding, and playing. You should continue to practice good hygiene during those interactions,' including washing your hands before and after touching your pet.\n",
      "220\n",
      "In one study, about 4 in 5 people with confirmed coronavirus in China were likely infected by people who didn't know they had it, according to research published in the journal 'Science.'\n",
      "'These findings explain the rapid geographic spread of (coronavirus) and indicate containment of this virus will be particularly challenging,' researchers wrote.\n",
      "In mid-March, the CDC said almost half of the 712 people with coronavirus who were on the Diamond Princess cruise ship didn't have any symptoms when they tested positive.\n",
      "And recent studies suggest 25% to 50% of coronavirus carriers don't have symptoms.\n",
      "In the US, 'I think it could be as many as 1 in 3 walking around asymptomatic,' said New Jersey primary care physician Dr. Alex Salerno.\n",
      "'We have tested some patients that have known exposure to COVID (coronavirus disease). They did not have temperature. Their pulse/(oxygen) was OK.'\n",
      "Aside from social distancing and frequent hand washing, Salerno said more testing of people without symptoms is essential.\n",
      "When asymptomatic carriers test positive, 'we isolate them, and we separate them from the people who are not positive,' Salerno said. If more asymptomatic people got tested, 'we could get people back to work safely.'\n",
      "But there haven't been nearly enough tests in the US for everyone who wants one, due to shortages, delays and faulty test kits.\n",
      "226\n",
      "The Harvard Medical School offers several tips, including: \n",
      "\n",
      "choosing a babysitter who has minimal exposures to other people besides your family\n",
      "limiting the number of babysitters. If you can keep it to one, that's ideal. But if you need multple babysitters, keep the number as low as possible\n",
      "making sure the babysitter understands he or she needs to practice social distancing and limits physical interaction with your children as much as possible\n",
      "telling the babysitter that he or she must not come to your house if feeling even the slightest bit sick, or has had known exposure to coronavirus\n",
      "making sure everyone washes their hands frequently throughout the day, especially before eating.\n",
      "232\n",
      "'It may be possible that a person can get COVID-19 by touching a surface or object that has the virus on it and then touching their own mouth, nose, or possibly their eyes, but this is not thought to be the main way the virus spreads,' the CDC says. \n",
      "More often than not, people get coronavirus through respiratory droplets produced when an infected person coughs or sneezes.\n",
      "'These droplets can land in the mouths or noses of people who are nearby or possibly be inhaled into the lungs,' the CDC says.\n",
      "236\n",
      "'Younger people, thankfully, seem to be insulated to some extent to protect (them) from getting particularly sick from this,' said CNN Chief Medical Correspondent Dr. Sanjay Gupta. 'We don't know entirely why.'\n",
      "But while children might have mild to no symptoms with coronavirus, they can still get others sick.\n",
      "                'They can still carry the virus in their bodies,' Gupta said. 'They could potentially still shed the virus and be a source of infection.'\n",
      "Like everyone else, children should wash their hands frequently for at least 20 seconds, stay at least 6 feet away from anyone coughing or sneezing, and stop touching their faces ' which is a lot harder than it sounds.\n",
      "246\n",
      "An employee can be fired if they don't show up to work and they don't have sick leave that would cover the absence, says Krista Slosburg, an employment attorney at Stokes Lawrence in Seattle.  \n",
      "But there are exceptions.\n",
      "Employers that make workers with coronavirus come in may be violating Occupational Safety and Health Administration [OSHA] regulations, according to Donna Ballman, who heads an employee advocacy law firm in Florida.\n",
      "254\n",
      "Top healthcare officials say the US does not have enough stockpiled medical equipment like masks, gowns and gloves to meet the anticipated need as this pandemic grows.\n",
      "There are several reasons hospitals are on track to face dire shortages, said Dr. William Schaffner, an infectious disease expert and professor at Vanderbilt University Medical Center. \n",
      "'About 20 or 30 years ago, we decided that we would not over-hospitalize,' Schaffner said.\n",
      "Back then, hospitals often had empty hospital beds for new patients. But now, many hospitals are 'absolutely full,' Schaffner said. 'We have under-built hospital beds because they are very expensive.'\n",
      "Also, Americans have grown accustomed to 'just-in-time' ordering. But that becomes a huge problem when international supply chains are disrupted by an outbreak. 'We didn't anticipate international turbulence influencing this,' Schaffner said.\n",
      "Now, some health care workers are making their own masks. They've also been told they can use bandanas or scarves as masks.\n",
      "270\n",
      "\n",
      "271\n",
      "\n"
     ]
    }
   ],
   "source": [
    "index = 0\n",
    "for s in answers:\n",
    "    if (len(shorten_sentence(s)) == 0):\n",
    "        print(index)\n",
    "        print(s)\n",
    "    index+=1\n",
    "    "
   ]
  },
  {
   "cell_type": "code",
   "execution_count": null,
   "metadata": {},
   "outputs": [],
   "source": []
  },
  {
   "cell_type": "code",
   "execution_count": null,
   "metadata": {},
   "outputs": [],
   "source": []
  },
  {
   "cell_type": "code",
   "execution_count": null,
   "metadata": {},
   "outputs": [],
   "source": []
  },
  {
   "cell_type": "code",
   "execution_count": null,
   "metadata": {},
   "outputs": [],
   "source": []
  },
  {
   "cell_type": "markdown",
   "metadata": {},
   "source": [
    "# String Comparison"
   ]
  },
  {
   "cell_type": "markdown",
   "metadata": {},
   "source": [
    "Using BOW (Bag of Words) and NLTK\n",
    "[Link](https://towardsdatascience.com/calculating-string-similarity-in-python-276e18a7d33a)\n",
    "\n",
    "Levenshtein [Link](https://pypi.org/project/python-Levenshtein/)"
   ]
  },
  {
   "cell_type": "code",
   "execution_count": 375,
   "metadata": {},
   "outputs": [],
   "source": [
    "import Levenshtein as lev\n",
    "\n",
    "import string\n",
    "from sklearn.metrics.pairwise import cosine_similarity\n",
    "from sklearn.feature_extraction.text import CountVectorizer\n",
    "import nltk\n",
    "from nltk.corpus import stopwords \n",
    "from nltk.tokenize import word_tokenize \n",
    "nltk.download('stopwords')\n",
    "sw = stopwords.words('english')  "
   ]
  },
  {
   "cell_type": "code",
   "execution_count": 401,
   "metadata": {},
   "outputs": [],
   "source": [
    "def clean_string(text):\n",
    "    text = ''.join([word for word in text if word not in string.punctuation])\n",
    "    text = text.lower()\n",
    "    text = ' '.join([word for word in text.split() if word not in sw])\n",
    "    return text\n",
    "\n",
    "def cosine_sim_vectors(vec1, vec2):\n",
    "    vec1 = vec1.reshape(1,-1)\n",
    "    vec2 = vec2.reshape(1,-1)\n",
    "    \n",
    "    return cosine_similarity(vec1, vec2)[0][0]"
   ]
  },
  {
   "cell_type": "code",
   "execution_count": 543,
   "metadata": {},
   "outputs": [
    {
     "data": {
      "text/plain": [
       "(270, 614)"
      ]
     },
     "execution_count": 543,
     "metadata": {},
     "output_type": "execute_result"
    }
   ],
   "source": [
    "cleaned = list(map(clean_string, questions))\n",
    "vectoriser = CountVectorizer(cleaned)\n",
    "question_vectors = vectoriser.fit_transform(cleaned[:]).toarray()\n",
    "question_vectors.shape\n",
    "# vectoriser.vocabulary_"
   ]
  },
  {
   "cell_type": "code",
   "execution_count": 559,
   "metadata": {},
   "outputs": [
    {
     "name": "stdout",
     "output_type": "stream",
     "text": [
      "cosine 0.769800358919501 Should I wear a face covering or face mask when I go out in public?\n",
      "\n",
      "ratio 0.8 Should I get a face mask?\n",
      "Max value and index 0.769800358919501 115\n",
      "Closest question: Should I wear a face covering or face mask when I go out in public?\n",
      "Answer: CDC recommends wearing cloth face coverings in public when other social distancing measures are difficult to maintain (e.g., grocery stores and pharmacies) especially in areas of significant community-based transmission of the coronavirus. The purpose of wearing cloth face coverings in public is to slow the spread of the virus and help people who may have the virus and do not know it from transmitting it to others.\n",
      "238 2\n"
     ]
    }
   ],
   "source": [
    "input_q = \"should i wear a face mask\"\n",
    "\n",
    "ratios = [lev.ratio(input_q, q) for q in questions]\n",
    "\n",
    "input_vector = vectoriser.transform([input_q])\n",
    "cosine_sim = [cosine_sim_vectors(input_vector[0], q) for q in question_vectors]\n",
    "\n",
    "max_value_c = max(cosine_sim)\n",
    "max_index_c = cosine_sim.index(max_value_c)\n",
    "max_value_r = max(ratios)\n",
    "max_index_r = ratios.index(max_value_r)\n",
    "\n",
    "print(\"cosine\", max_value_c, questions[max_index_c])\n",
    "print(\"\\nratio\", max_value_r, questions[max_index_r])\n",
    "\n",
    "\n",
    "if max_value_c > max_value_r:\n",
    "    max_value = max_value_c\n",
    "    max_index = max_index_c\n",
    "else:\n",
    "    max_value = max_value_r\n",
    "    max_index = max_index_r\n",
    "\n",
    "\n",
    "\n",
    "ans = answers[max_index]\n",
    "print(\"Max value and index\", max_value, max_index)\n",
    "print(\"Closest question:\", questions[max_index])\n",
    "print(\"Answer:\", ans)\n",
    "\n",
    "if max_value < 0.7:\n",
    "    print(\"Please ask a question related to COVID-19. \\nFor example: 'What is a coronavirus?'\")\n",
    "\n",
    "else:\n",
    "    # Truncate to under 320 character (1 SMS is 160 characters)\n",
    "    num_sentences = ans.count('.')\n",
    "    while len(ans) > 320:\n",
    "        # print(len(ans), num_sentences)\n",
    "        ans = '.'.join(ans.split('.')[:num_sentences])\n",
    "        num_sentences -= 1\n",
    "\n",
    "    print(len(ans), num_sentences)"
   ]
  },
  {
   "cell_type": "markdown",
   "metadata": {
    "heading_collapsed": true
   },
   "source": [
    "# Using Google Search API"
   ]
  },
  {
   "cell_type": "code",
   "execution_count": 14,
   "metadata": {
    "hidden": true
   },
   "outputs": [],
   "source": [
    "# https://towardsdatascience.com/build-a-simple-chatbot-with-python-and-google-search-c000aa3f73f0"
   ]
  },
  {
   "cell_type": "code",
   "execution_count": 230,
   "metadata": {
    "hidden": true
   },
   "outputs": [],
   "source": [
    "import requests\n",
    "from lxml import html\n",
    "from googlesearch import search\n",
    "from bs4 import BeautifulSoup\n",
    "\n"
   ]
  },
  {
   "cell_type": "code",
   "execution_count": 231,
   "metadata": {
    "hidden": true
   },
   "outputs": [
    {
     "name": "stdout",
     "output_type": "stream",
     "text": [
      "ByLaura Geggel - Associate Editor31 March 2020Wearing a face mask could protect you in crowded situations\n"
     ]
    }
   ],
   "source": [
    "query = \"Should I wear a face mask for covid?\"\n",
    "\n",
    "## Google Search query results as a Python List of URLs\n",
    "search_result_list = list(search(query, tld=\"co.in\", num=10, stop=3, pause=1))\n",
    "\n",
    "page = requests.get(search_result_list[0])\n",
    "\n",
    "tree = html.fromstring(page.content)\n",
    "\n",
    "soup = BeautifulSoup(page.content, features=\"lxml\")\n",
    "\n",
    "\n",
    "article_text = ''\n",
    "article = soup.findAll('p')\n",
    "for element in article:\n",
    "    article_text += '\\n' + ''.join(element.findAll(text = True))\n",
    "article_text = article_text.replace('\\n', '')\n",
    "first_sentence = article_text.split('.')\n",
    "first_sentence = first_sentence[0].split('?')[0]\n",
    "\n",
    "print(first_sentence)"
   ]
  },
  {
   "cell_type": "code",
   "execution_count": 711,
   "metadata": {
    "hidden": true
   },
   "outputs": [],
   "source": [
    "# page.content"
   ]
  }
 ],
 "metadata": {
  "kernelspec": {
   "display_name": "Python 3",
   "language": "python",
   "name": "python3"
  },
  "language_info": {
   "codemirror_mode": {
    "name": "ipython",
    "version": 3
   },
   "file_extension": ".py",
   "mimetype": "text/x-python",
   "name": "python",
   "nbconvert_exporter": "python",
   "pygments_lexer": "ipython3",
   "version": "3.7.6"
  }
 },
 "nbformat": 4,
 "nbformat_minor": 4
}
