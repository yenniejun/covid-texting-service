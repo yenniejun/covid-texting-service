{
 "cells": [
  {
   "cell_type": "markdown",
   "metadata": {},
   "source": [
    "# Covid Texting/Email\n",
    "Inspired by this [blog post](https://towardsdatascience.com/how-to-track-coronavirus-with-python-a5320b778c8e)"
   ]
  },
  {
   "cell_type": "code",
   "execution_count": 223,
   "metadata": {},
   "outputs": [],
   "source": [
    "import re\n",
    "from selenium import webdriver\n",
    "from selenium.webdriver.common.keys import Keys\n",
    "import itertools\n",
    "import pandas as pd\n",
    "import corona\n",
    "import numpy as np"
   ]
  },
  {
   "cell_type": "code",
   "execution_count": 16,
   "metadata": {},
   "outputs": [],
   "source": [
    "class Coronavirus():\n",
    "  def __init__(self, link):\n",
    "    self.driver = webdriver.Chrome()\n",
    "    self.driver.get(link)"
   ]
  },
  {
   "cell_type": "code",
   "execution_count": null,
   "metadata": {},
   "outputs": [],
   "source": [
    "# bot_world = Coronavirus('https://www.worldometers.info/coronavirus/')\n",
    "# bot_us = Coronavirus('https://www.worldometers.info/coronavirus/country/us/')\n",
    "# bot_la = Coronavirus('http://ldh.la.gov/Coronavirus/')"
   ]
  },
  {
   "cell_type": "markdown",
   "metadata": {
    "heading_collapsed": true
   },
   "source": [
    "## Louisiana Parishes"
   ]
  },
  {
   "cell_type": "code",
   "execution_count": 42,
   "metadata": {
    "hidden": true
   },
   "outputs": [],
   "source": [
    "bot_la = Coronavirus('https://www.arcgis.com/apps/opsdashboard/index.html#/69b726e2b82e408f89c3a54f96e8f776')\n"
   ]
  },
  {
   "cell_type": "code",
   "execution_count": 48,
   "metadata": {
    "hidden": true
   },
   "outputs": [],
   "source": [
    "lines = bot_la.driver.find_elements_by_xpath('//*[@id=\"ember56\"]/div/nav/span/div/div/p[2]/strong')\n",
    "lines = [line.get_attribute(\"innerHTML\") for line in lines]\n"
   ]
  },
  {
   "cell_type": "code",
   "execution_count": 49,
   "metadata": {
    "hidden": true
   },
   "outputs": [],
   "source": [
    "# https://stackoverflow.com/questions/1624883/alternative-way-to-split-a-list-into-groups-of-n\n",
    "def grouper(n, iterable, fillvalue=None):\n",
    "    \"grouper(3, 'ABCDEFG', 'x') --> ABC DEF Gxx\"\n",
    "    args = [iter(iterable)] * n\n",
    "    return itertools.zip_longest(*args, fillvalue=fillvalue)"
   ]
  },
  {
   "cell_type": "code",
   "execution_count": 50,
   "metadata": {
    "hidden": true
   },
   "outputs": [],
   "source": [
    "grouped_list = list(grouper(3, lines))"
   ]
  },
  {
   "cell_type": "code",
   "execution_count": 51,
   "metadata": {
    "hidden": true
   },
   "outputs": [],
   "source": [
    "df = pd.DataFrame(grouped_list, columns =['Parish', 'Cases', 'Deaths']) "
   ]
  },
  {
   "cell_type": "code",
   "execution_count": 73,
   "metadata": {
    "hidden": true
   },
   "outputs": [
    {
     "data": {
      "text/html": [
       "<div>\n",
       "<style scoped>\n",
       "    .dataframe tbody tr th:only-of-type {\n",
       "        vertical-align: middle;\n",
       "    }\n",
       "\n",
       "    .dataframe tbody tr th {\n",
       "        vertical-align: top;\n",
       "    }\n",
       "\n",
       "    .dataframe thead th {\n",
       "        text-align: right;\n",
       "    }\n",
       "</style>\n",
       "<table border=\"1\" class=\"dataframe\">\n",
       "  <thead>\n",
       "    <tr style=\"text-align: right;\">\n",
       "      <th></th>\n",
       "      <th>Parish</th>\n",
       "      <th>Cases</th>\n",
       "      <th>Deaths</th>\n",
       "    </tr>\n",
       "  </thead>\n",
       "  <tbody>\n",
       "    <tr>\n",
       "      <th>0</th>\n",
       "      <td>Orleans</td>\n",
       "      <td>451</td>\n",
       "      <td>15</td>\n",
       "    </tr>\n",
       "    <tr>\n",
       "      <th>1</th>\n",
       "      <td>Jefferson</td>\n",
       "      <td>184</td>\n",
       "      <td>3</td>\n",
       "    </tr>\n",
       "    <tr>\n",
       "      <th>2</th>\n",
       "      <td>Catahoula</td>\n",
       "      <td>1</td>\n",
       "      <td>1</td>\n",
       "    </tr>\n",
       "    <tr>\n",
       "      <th>3</th>\n",
       "      <td>St. James</td>\n",
       "      <td>1</td>\n",
       "      <td>1</td>\n",
       "    </tr>\n",
       "    <tr>\n",
       "      <th>4</th>\n",
       "      <td>St. Tammany</td>\n",
       "      <td>25</td>\n",
       "      <td>0</td>\n",
       "    </tr>\n",
       "    <tr>\n",
       "      <th>...</th>\n",
       "      <td>...</td>\n",
       "      <td>...</td>\n",
       "      <td>...</td>\n",
       "    </tr>\n",
       "    <tr>\n",
       "      <th>60</th>\n",
       "      <td>Vermilion</td>\n",
       "      <td>0</td>\n",
       "      <td>0</td>\n",
       "    </tr>\n",
       "    <tr>\n",
       "      <th>61</th>\n",
       "      <td>Vernon</td>\n",
       "      <td>0</td>\n",
       "      <td>0</td>\n",
       "    </tr>\n",
       "    <tr>\n",
       "      <th>62</th>\n",
       "      <td>West Carroll</td>\n",
       "      <td>0</td>\n",
       "      <td>0</td>\n",
       "    </tr>\n",
       "    <tr>\n",
       "      <th>63</th>\n",
       "      <td>West Feliciana</td>\n",
       "      <td>0</td>\n",
       "      <td>0</td>\n",
       "    </tr>\n",
       "    <tr>\n",
       "      <th>64</th>\n",
       "      <td>Winn</td>\n",
       "      <td>0</td>\n",
       "      <td>0</td>\n",
       "    </tr>\n",
       "  </tbody>\n",
       "</table>\n",
       "<p>65 rows × 3 columns</p>\n",
       "</div>"
      ],
      "text/plain": [
       "                        Parish Cases Deaths\n",
       "0   Orleans                      451     15\n",
       "1   Jefferson                    184      3\n",
       "2   Catahoula                      1      1\n",
       "3   St. James                      1      1\n",
       "4   St. Tammany                   25      0\n",
       "..                         ...   ...    ...\n",
       "60  Vermilion                      0      0\n",
       "61  Vernon                         0      0\n",
       "62  West Carroll                   0      0\n",
       "63  West Feliciana                 0      0\n",
       "64  Winn                           0      0\n",
       "\n",
       "[65 rows x 3 columns]"
      ]
     },
     "execution_count": 73,
     "metadata": {},
     "output_type": "execute_result"
    }
   ],
   "source": [
    "df"
   ]
  },
  {
   "cell_type": "code",
   "execution_count": 59,
   "metadata": {
    "hidden": true
   },
   "outputs": [],
   "source": [
    "parish_lens = [len(p) for p in df.Parish.values]"
   ]
  },
  {
   "cell_type": "code",
   "execution_count": 65,
   "metadata": {
    "hidden": true
   },
   "outputs": [],
   "source": [
    "max_val = max(parish_lens)\n"
   ]
  },
  {
   "cell_type": "code",
   "execution_count": 72,
   "metadata": {
    "hidden": true
   },
   "outputs": [],
   "source": [
    "df['Parish'] = ['{:26}'.format(p) for p in df.Parish.values]\n"
   ]
  },
  {
   "cell_type": "code",
   "execution_count": 70,
   "metadata": {
    "hidden": true
   },
   "outputs": [
    {
     "data": {
      "text/plain": [
       "['Orleans                   ',\n",
       " 'Jefferson                 ',\n",
       " 'Catahoula                 ',\n",
       " 'St. James                 ',\n",
       " 'St. Tammany               ',\n",
       " 'East Baton Rouge          ',\n",
       " 'Ascension                 ',\n",
       " 'Caddo                     ',\n",
       " 'St. Bernard               ',\n",
       " 'Lafourche                 ',\n",
       " 'Terrebonne                ',\n",
       " 'Parish Under Investigation',\n",
       " 'St. John the Baptist      ',\n",
       " 'St. Charles               ',\n",
       " 'Lafayette                 ',\n",
       " 'Bossier                   ',\n",
       " 'Plaquemines               ',\n",
       " 'Calcasieu                 ',\n",
       " 'Ouachita                  ',\n",
       " 'Rapides                   ',\n",
       " 'St. Landry                ',\n",
       " 'Tangipahoa                ',\n",
       " 'West Baton Rouge          ',\n",
       " 'De Soto                   ',\n",
       " 'Evangeline                ',\n",
       " 'Iberia                    ',\n",
       " 'Iberville                 ',\n",
       " 'Livingston                ',\n",
       " 'Washington                ',\n",
       " 'Acadia                    ',\n",
       " 'Assumption                ',\n",
       " 'Avoyelles                 ',\n",
       " 'Beauregard                ',\n",
       " 'Bienville                 ',\n",
       " 'Claiborne                 ',\n",
       " 'St. Mary                  ',\n",
       " 'Webster                   ',\n",
       " 'Allen                     ',\n",
       " 'Caldwell                  ',\n",
       " 'Cameron                   ',\n",
       " 'Concordia                 ',\n",
       " 'East Carroll              ',\n",
       " 'East Feliciana            ',\n",
       " 'Franklin                  ',\n",
       " 'Grant                     ',\n",
       " 'Jackson                   ',\n",
       " 'Jefferson Davis           ',\n",
       " 'La Salle                  ',\n",
       " 'Lincoln                   ',\n",
       " 'Madison                   ',\n",
       " 'Morehouse                 ',\n",
       " 'Natchitoches              ',\n",
       " 'Pointe Coupee             ',\n",
       " 'Red River                 ',\n",
       " 'Richland                  ',\n",
       " 'Sabine                    ',\n",
       " 'St. Helena                ',\n",
       " 'St. Martin                ',\n",
       " 'Tensas                    ',\n",
       " 'Union                     ',\n",
       " 'Vermilion                 ',\n",
       " 'Vernon                    ',\n",
       " 'West Carroll              ',\n",
       " 'West Feliciana            ',\n",
       " 'Winn                      ']"
      ]
     },
     "execution_count": 70,
     "metadata": {},
     "output_type": "execute_result"
    }
   ],
   "source": [
    "['{:26}'.format(p) for p in df.Parish.values]\n"
   ]
  },
  {
   "cell_type": "markdown",
   "metadata": {
    "hidden": true
   },
   "source": []
  },
  {
   "cell_type": "markdown",
   "metadata": {},
   "source": [
    "## US States"
   ]
  },
  {
   "cell_type": "code",
   "execution_count": 215,
   "metadata": {},
   "outputs": [],
   "source": [
    "bot_us = corona.get_us_bot()\n"
   ]
  },
  {
   "cell_type": "code",
   "execution_count": 66,
   "metadata": {},
   "outputs": [],
   "source": [
    "df_us.to_csv('us_states_df.csv')"
   ]
  },
  {
   "cell_type": "code",
   "execution_count": 132,
   "metadata": {},
   "outputs": [],
   "source": [
    "us_data = pd.read_csv('us_states_df.csv')\n",
    "us_data.drop(columns=\"Unnamed: 0\", inplace=True)\n",
    "us_data.State.replace(\"<strong>Total:</strong>\", \"Total\", inplace=True)\n",
    "\n",
    "total = us_data[53:54]\n",
    "# us_data[0:51]#.sort_values(by='State')\n"
   ]
  },
  {
   "cell_type": "code",
   "execution_count": 127,
   "metadata": {},
   "outputs": [],
   "source": [
    "# this is for from the dataframe\n",
    "us_data.NewCases = us_data.NewCases.str.replace(\"+\",\"\")\n",
    "us_data.NewCases = us_data.NewCases.str.replace(\",\",\"\").fillna(0).astype(int)\n",
    "\n",
    "us_data.TotalCases = us_data.TotalCases.str.replace(\",\",\"\").fillna(0).astype(int)\n",
    "us_data.TotalDeaths = us_data.TotalDeaths.fillna(0).astype(int)\n",
    "us_data.NewDeaths = us_data.NewDeaths.fillna(0).astype(int)\n",
    "\n",
    "us_data[\"CasePercentInc\"] = us_data.NewCases.str.replace(\",\",\"\").fillna(0).astype(int) / (us_data.TotalCases.str.replace(\",\",\"\").fillna(0).astype(int) - us_data.NewCases.str.replace(\",\",\"\").fillna(0).astype(int))\n",
    "us_data[\"DeathPercentInc\"] = us_data.NewDeaths / (us_data.TotalDeaths - us_data.NewDeaths)\n"
   ]
  },
  {
   "cell_type": "code",
   "execution_count": 72,
   "metadata": {},
   "outputs": [
    {
     "data": {
      "text/html": [
       "<div>\n",
       "<style scoped>\n",
       "    .dataframe tbody tr th:only-of-type {\n",
       "        vertical-align: middle;\n",
       "    }\n",
       "\n",
       "    .dataframe tbody tr th {\n",
       "        vertical-align: top;\n",
       "    }\n",
       "\n",
       "    .dataframe thead th {\n",
       "        text-align: right;\n",
       "    }\n",
       "</style>\n",
       "<table border=\"1\" class=\"dataframe\">\n",
       "  <thead>\n",
       "    <tr style=\"text-align: right;\">\n",
       "      <th></th>\n",
       "      <th>State</th>\n",
       "      <th>TotalCases</th>\n",
       "      <th>NewCases</th>\n",
       "      <th>TotalDeaths</th>\n",
       "      <th>NewDeaths</th>\n",
       "    </tr>\n",
       "  </thead>\n",
       "  <tbody>\n",
       "    <tr>\n",
       "      <th>53</th>\n",
       "      <td>Total</td>\n",
       "      <td>52,447</td>\n",
       "      <td>8,713</td>\n",
       "      <td>674.0</td>\n",
       "      <td>121.0</td>\n",
       "    </tr>\n",
       "  </tbody>\n",
       "</table>\n",
       "</div>"
      ],
      "text/plain": [
       "    State TotalCases NewCases  TotalDeaths  NewDeaths\n",
       "53  Total     52,447    8,713        674.0      121.0"
      ]
     },
     "execution_count": 72,
     "metadata": {},
     "output_type": "execute_result"
    }
   ],
   "source": [
    "total"
   ]
  },
  {
   "cell_type": "code",
   "execution_count": 60,
   "metadata": {},
   "outputs": [],
   "source": [
    "# pd.set_option('display.max_rows', us_data.shape[0]+1)"
   ]
  },
  {
   "cell_type": "code",
   "execution_count": 220,
   "metadata": {},
   "outputs": [],
   "source": [
    "# this is for directly from the source\n",
    "df_us = corona.get_states_df(bot_us)\n",
    "\n",
    "us_data = df_us.copy()\n",
    "us_data.State.replace(\"<strong>Total:</strong>\", \"Total\", inplace=True)\n",
    "total = us_data[53:54]\n",
    "us_data = us_data[0:51]#.sort_values(by='State')\n",
    "\n",
    "us_data.NewCases = us_data.NewCases.str.replace(\"+\",\"\")\n",
    "us_data.NewCases.str.replace(\",\",\"\").fillna(0)\n",
    "us_data.replace(r'^\\s*$', np.nan, regex=True, inplace=True)\n",
    "us_data[\"CasePercentInc\"] = us_data.NewCases.str.replace(\",\",\"\").fillna(0).astype(int) / (us_data.TotalCases.str.replace(\",\",\"\").fillna(0).astype(int) - us_data.NewCases.str.replace(\",\",\"\").fillna(0).astype(int))\n",
    "us_data[\"DeathPercentInc\"] = us_data.NewDeaths.fillna(0).astype(int) / (us_data.TotalDeaths.fillna(0).astype(int) - us_data.NewDeaths.fillna(0).astype(int))\n",
    "                                                                              \n",
    "   "
   ]
  },
  {
   "cell_type": "code",
   "execution_count": 182,
   "metadata": {},
   "outputs": [
    {
     "data": {
      "text/plain": [
       "'22.9'"
      ]
     },
     "execution_count": 182,
     "metadata": {},
     "output_type": "execute_result"
    }
   ],
   "source": [
    "\n",
    "\"{:.1f}\".format(us_data.CasePercentInc.values[0] * 100)"
   ]
  },
  {
   "cell_type": "code",
   "execution_count": 224,
   "metadata": {},
   "outputs": [
    {
     "name": "stdout",
     "output_type": "stream",
     "text": [
      "      State TotalCases NewCases TotalDeaths NewDeaths stripped_state\n",
      "45  Montana         46       +1                              montana\n"
     ]
    }
   ],
   "source": [
    "m = corona.get_us_state(bot_us, 'montana')"
   ]
  },
  {
   "cell_type": "code",
   "execution_count": 211,
   "metadata": {},
   "outputs": [
    {
     "data": {
      "text/plain": [
       "dtype('O')"
      ]
     },
     "execution_count": 211,
     "metadata": {},
     "output_type": "execute_result"
    }
   ],
   "source": [
    "m.State.dtypes"
   ]
  },
  {
   "cell_type": "code",
   "execution_count": 212,
   "metadata": {},
   "outputs": [
    {
     "data": {
      "text/plain": [
       "45    \n",
       "Name: NewDeaths, dtype: object"
      ]
     },
     "execution_count": 212,
     "metadata": {},
     "output_type": "execute_result"
    }
   ],
   "source": [
    "m.NewDeaths.fillna(0)"
   ]
  },
  {
   "cell_type": "code",
   "execution_count": 225,
   "metadata": {},
   "outputs": [
    {
     "data": {
      "text/html": [
       "<div>\n",
       "<style scoped>\n",
       "    .dataframe tbody tr th:only-of-type {\n",
       "        vertical-align: middle;\n",
       "    }\n",
       "\n",
       "    .dataframe tbody tr th {\n",
       "        vertical-align: top;\n",
       "    }\n",
       "\n",
       "    .dataframe thead th {\n",
       "        text-align: right;\n",
       "    }\n",
       "</style>\n",
       "<table border=\"1\" class=\"dataframe\">\n",
       "  <thead>\n",
       "    <tr style=\"text-align: right;\">\n",
       "      <th></th>\n",
       "      <th>State</th>\n",
       "      <th>TotalCases</th>\n",
       "      <th>NewCases</th>\n",
       "      <th>TotalDeaths</th>\n",
       "      <th>NewDeaths</th>\n",
       "      <th>stripped_state</th>\n",
       "    </tr>\n",
       "  </thead>\n",
       "  <tbody>\n",
       "    <tr>\n",
       "      <th>45</th>\n",
       "      <td>Montana</td>\n",
       "      <td>46</td>\n",
       "      <td>+1</td>\n",
       "      <td></td>\n",
       "      <td></td>\n",
       "      <td>montana</td>\n",
       "    </tr>\n",
       "  </tbody>\n",
       "</table>\n",
       "</div>"
      ],
      "text/plain": [
       "      State TotalCases NewCases TotalDeaths NewDeaths stripped_state\n",
       "45  Montana         46       +1                              montana"
      ]
     },
     "execution_count": 225,
     "metadata": {},
     "output_type": "execute_result"
    }
   ],
   "source": [
    "m"
   ]
  },
  {
   "cell_type": "code",
   "execution_count": 246,
   "metadata": {},
   "outputs": [],
   "source": [
    "def get_states_df(bot_us):\n",
    "\tstates = bot_us.driver.find_elements_by_xpath(\"//tbody/tr/td\")\n",
    "\tlines = [\" \".join(state.get_attribute(\"innerHTML\").split()) for state in states]\n",
    "\tgrouped_list = list(corona.grouper(7, lines))\n",
    "\tdf = pd.DataFrame(grouped_list).iloc[:,0:5]\n",
    "\tdf.columns =['State', 'TotalCases', 'NewCases', 'TotalDeaths', 'NewDeaths']\n",
    "\tdf.State.replace(\"<strong>Total:</strong>\", \"Total\", inplace=True)\n",
    "\treturn df[0:54]"
   ]
  },
  {
   "cell_type": "code",
   "execution_count": 260,
   "metadata": {},
   "outputs": [],
   "source": [
    "df = get_states_df(bot_us)\n"
   ]
  },
  {
   "cell_type": "code",
   "execution_count": 261,
   "metadata": {},
   "outputs": [],
   "source": [
    "df['stripped_state'] = [corona.clean_text(p) for p in df.State.values]\n",
    "df.replace(r'^\\s*$', np.nan, regex=True, inplace=True)\n",
    "df.NewCases = df.NewCases.str.replace(\"+\",\"\").fillna(0)\n",
    "df.NewDeaths = df.NewDeaths.str.replace(\"+\",\"\").fillna(0)\n"
   ]
  },
  {
   "cell_type": "code",
   "execution_count": 262,
   "metadata": {},
   "outputs": [
    {
     "data": {
      "text/plain": [
       "0     4790\n",
       "1      831\n",
       "2      361\n",
       "3        0\n",
       "4      463\n",
       "5      250\n",
       "6      185\n",
       "7      216\n",
       "8      382\n",
       "9      223\n",
       "10     207\n",
       "11      20\n",
       "12       0\n",
       "13      52\n",
       "14     203\n",
       "15     122\n",
       "16      49\n",
       "17      41\n",
       "18     106\n",
       "19      61\n",
       "20      43\n",
       "21      92\n",
       "22      71\n",
       "23      41\n",
       "24      36\n",
       "25      33\n",
       "26      27\n",
       "27      59\n",
       "28      21\n",
       "29      19\n",
       "30      18\n",
       "31      33\n",
       "32       0\n",
       "33      19\n",
       "34      18\n",
       "35      11\n",
       "36      25\n",
       "37       0\n",
       "38      16\n",
       "39      20\n",
       "40      23\n",
       "41       0\n",
       "42      34\n",
       "43       0\n",
       "44      11\n",
       "45       1\n",
       "46       4\n",
       "47       2\n",
       "48       2\n",
       "49       4\n",
       "50       4\n",
       "51       0\n",
       "52       0\n",
       "53    9249\n",
       "Name: NewCases, dtype: object"
      ]
     },
     "execution_count": 262,
     "metadata": {},
     "output_type": "execute_result"
    }
   ],
   "source": [
    "df.NewCases.str.replace(\",\",\"\").fillna(0)#.astype(int)"
   ]
  },
  {
   "cell_type": "code",
   "execution_count": 263,
   "metadata": {},
   "outputs": [],
   "source": [
    "state = \"montana\""
   ]
  },
  {
   "cell_type": "code",
   "execution_count": 264,
   "metadata": {},
   "outputs": [],
   "source": [
    "df['stripped_state'] = [corona.clean_text(p) for p in df.State.values]\n",
    "df.replace(r'^\\s*$', np.nan, regex=True, inplace=True)\n",
    "df.NewCases = df.NewCases.str.replace(\"+\",\"\").fillna(0)\n",
    "df.NewDeaths = df.NewDeaths.str.replace(\"+\",\"\").fillna(0)\n",
    "df.TotalDeaths = df.TotalDeaths.fillna(0)\n",
    "\n",
    "df[\"CasePercentInc\"] = df.NewCases.str.replace(\",\",\"\").fillna(0).astype(int) / (df.TotalCases.str.replace(\",\",\"\").fillna(0).astype(int) - df.NewCases.str.replace(\",\",\"\").fillna(0).astype(int))\n",
    "df[\"DeathPercentInc\"] = df.NewDeaths.fillna(0).astype(int) / (df.TotalDeaths.fillna(0).astype(int) - df.NewDeaths.fillna(0).astype(int))\n",
    "\n",
    "state = df[df.stripped_state == state]"
   ]
  },
  {
   "cell_type": "code",
   "execution_count": 265,
   "metadata": {},
   "outputs": [],
   "source": [
    "state_name = state.State.values[0]\n",
    "total_cases = state.TotalCases.values[0]\n",
    "new_cases = state.NewCases.values[0]  or 0\n",
    "case_percent = str(\"{:.1f}\".format(state.CasePercentInc.values[0] * 100)) + \"%\"\n",
    "total_deaths = state.TotalDeaths.values[0] or 0\n",
    "new_deaths = state.NewDeaths.values[0] or 0\n",
    "death_percent = str(\"{:.1f}\".format(state.DeathPercentInc.values[0] * 100)) + \"%\"\n",
    "\n"
   ]
  },
  {
   "cell_type": "code",
   "execution_count": 266,
   "metadata": {},
   "outputs": [
    {
     "data": {
      "text/html": [
       "<div>\n",
       "<style scoped>\n",
       "    .dataframe tbody tr th:only-of-type {\n",
       "        vertical-align: middle;\n",
       "    }\n",
       "\n",
       "    .dataframe tbody tr th {\n",
       "        vertical-align: top;\n",
       "    }\n",
       "\n",
       "    .dataframe thead th {\n",
       "        text-align: right;\n",
       "    }\n",
       "</style>\n",
       "<table border=\"1\" class=\"dataframe\">\n",
       "  <thead>\n",
       "    <tr style=\"text-align: right;\">\n",
       "      <th></th>\n",
       "      <th>State</th>\n",
       "      <th>TotalCases</th>\n",
       "      <th>NewCases</th>\n",
       "      <th>TotalDeaths</th>\n",
       "      <th>NewDeaths</th>\n",
       "      <th>stripped_state</th>\n",
       "      <th>CasePercentInc</th>\n",
       "      <th>DeathPercentInc</th>\n",
       "    </tr>\n",
       "  </thead>\n",
       "  <tbody>\n",
       "    <tr>\n",
       "      <th>45</th>\n",
       "      <td>Montana</td>\n",
       "      <td>46</td>\n",
       "      <td>1</td>\n",
       "      <td>0</td>\n",
       "      <td>0</td>\n",
       "      <td>montana</td>\n",
       "      <td>0.022222</td>\n",
       "      <td>NaN</td>\n",
       "    </tr>\n",
       "  </tbody>\n",
       "</table>\n",
       "</div>"
      ],
      "text/plain": [
       "      State TotalCases NewCases TotalDeaths NewDeaths stripped_state  \\\n",
       "45  Montana         46        1           0         0        montana   \n",
       "\n",
       "    CasePercentInc  DeathPercentInc  \n",
       "45        0.022222              NaN  "
      ]
     },
     "execution_count": 266,
     "metadata": {},
     "output_type": "execute_result"
    }
   ],
   "source": [
    "state"
   ]
  },
  {
   "cell_type": "code",
   "execution_count": null,
   "metadata": {},
   "outputs": [],
   "source": []
  }
 ],
 "metadata": {
  "kernelspec": {
   "display_name": "Python 3",
   "language": "python",
   "name": "python3"
  },
  "language_info": {
   "codemirror_mode": {
    "name": "ipython",
    "version": 3
   },
   "file_extension": ".py",
   "mimetype": "text/x-python",
   "name": "python",
   "nbconvert_exporter": "python",
   "pygments_lexer": "ipython3",
   "version": "3.7.6"
  }
 },
 "nbformat": 4,
 "nbformat_minor": 4
}
